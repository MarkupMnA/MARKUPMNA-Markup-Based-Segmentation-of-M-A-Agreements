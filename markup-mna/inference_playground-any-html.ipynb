{
 "cells": [
  {
   "cell_type": "markdown",
   "metadata": {
    "id": "QwrV512Wds1g"
   },
   "source": [
    "## Import Modules"
   ]
  },
  {
   "cell_type": "code",
   "execution_count": 1,
   "metadata": {
    "colab": {
     "base_uri": "https://localhost:8080/"
    },
    "id": "QmVpIfmvds1j",
    "outputId": "b250c696-2bfc-4390-c6ef-329f4d091d4c"
   },
   "outputs": [],
   "source": [
    "import warnings\n",
    "warnings.simplefilter(action='ignore', category=FutureWarning)\n",
    "warnings.simplefilter(action='ignore', category=UserWarning)\n",
    "\n",
    "import os \n",
    "import glob\n",
    "import json\n",
    "from transformers import MarkupLMProcessor\n",
    "from transformers import MarkupLMForTokenClassification\n",
    "\n",
    "import torch\n",
    "from torch import nn\n",
    "from torch.utils.data import Dataset\n",
    "from torch.utils.data import DataLoader\n",
    "\n",
    "import utils\n",
    "# import input_pipeline as ip\n",
    "\n",
    "import pandas as pd\n",
    "\n",
    "from tqdm.auto import tqdm\n",
    "import yaml\n"
   ]
  },
  {
   "cell_type": "code",
   "execution_count": 2,
   "metadata": {},
   "outputs": [
    {
     "name": "stdout",
     "output_type": "stream",
     "text": [
      "Using device cpu\n"
     ]
    }
   ],
   "source": [
    "device = torch.device(\"cuda\" if torch.cuda.is_available() else \"cpu\")\n",
    "print(f\"Using device {device}\")"
   ]
  },
  {
   "cell_type": "markdown",
   "metadata": {},
   "source": [
    "## Define Helper Functions\n",
    "\n",
    "1. create_raw_dataset: takes the tagged csvs and creates a dict of \n",
    "    xpaths, nodes, node_labels"
   ]
  },
  {
   "cell_type": "code",
   "execution_count": 3,
   "metadata": {
    "tags": []
   },
   "outputs": [],
   "source": [
    "def create_raw_dataset(tagged_csv_path, id2label, label2id, is_train=True):\n",
    "    \"\"\"Preprocesses the tagged csvs in the format required by MarkupLM\"\"\"\n",
    "\n",
    "    tagged_df = pd.read_csv(tagged_csv_path)\n",
    "\n",
    "    # in train mode we expect text and xpaths that are highlighted \n",
    "    # by an annotator\n",
    "    if is_train:\n",
    "        col_list = [\"nodes\", \"xpaths\", \"node_labels\"]\n",
    "        \n",
    "        tagged_df[\"highlighted_xpaths\"] = tagged_df[\"highlighted_xpaths\"].fillna(\n",
    "            tagged_df[\"xpaths\"]\n",
    "        )\n",
    "        tagged_df[\"highlighted_segmented_text\"] = tagged_df[\n",
    "            \"highlighted_segmented_text\"\n",
    "        ].fillna(tagged_df[\"text\"])\n",
    "\n",
    "        # drop non-ASCII chars\n",
    "        tagged_df[\"highlighted_segmented_text\"] = (\n",
    "            tagged_df[\"highlighted_segmented_text\"]\n",
    "            .str.encode(\"ascii\", errors=\"ignore\")\n",
    "            .str.decode(\"ascii\")\n",
    "        )\n",
    "\n",
    "        # rename columns to match MarkupLM convention\n",
    "        tagged_df = tagged_df.rename(\n",
    "            columns={\n",
    "                \"highlighted_xpaths\": \"xpaths\",\n",
    "                \"highlighted_segmented_text\": \"nodes\",\n",
    "                \"tagged_sequence\": \"node_labels\",\n",
    "            },\n",
    "        )\n",
    "\n",
    "        # convert node labels to integer values\n",
    "        tagged_df[\"node_labels\"] = tagged_df[\"node_labels\"].apply(\n",
    "            lambda label: label2id[label]\n",
    "        )\n",
    "    \n",
    "    else:\n",
    "        col_list = [\"nodes\", \"xpaths\"]\n",
    "        \n",
    "        # rename columns to match MarkupLM convention\n",
    "        tagged_df = tagged_df.rename(\n",
    "            columns={\n",
    "                \"xpaths\": \"xpaths\",\n",
    "                \"text\": \"nodes\",\n",
    "            },\n",
    "        )     \n",
    "    \n",
    "    tagged_output = tagged_df.loc[:, col_list].to_dict(orient=\"list\")\n",
    "\n",
    "    # convert each key to a list of lists just like the MarkupLM\n",
    "    # pipeline requires\n",
    "    for k, v in tagged_output.items():\n",
    "        tagged_output[k] = [v]\n",
    "\n",
    "    return tagged_output"
   ]
  },
  {
   "cell_type": "code",
   "execution_count": 4,
   "metadata": {},
   "outputs": [],
   "source": [
    "def create_raw_dataset_any_html(html_all_nodes_path, id2label=None, label2id=None, is_train=False):\n",
    "    \"\"\"Preprocesses the tagged csvs in the format required by MarkupLM\"\"\"\n",
    "    import ast\n",
    "    \n",
    "    with open(html_test_nodes_path, 'r') as f:\n",
    "        test_json = json.load(f)\n",
    "    \n",
    "    texts = ast.literal_eval(test_json['segmentedTexts'])\n",
    "    xpaths = ast.literal_eval(test_json['xpaths'])\n",
    "    tagged_df = pd.DataFrame.from_dict({'nodes':texts, 'xpaths':xpaths})\n",
    "    tagged_df = tagged_df.where(tagged_df['xpaths'] != '').dropna()\n",
    "    col_list = [\"nodes\", \"xpaths\"]\n",
    "    \n",
    "    tagged_output = tagged_df.loc[:, col_list].to_dict(orient=\"list\")\n",
    "\n",
    "    # convert each key to a list of lists just like the MarkupLM\n",
    "    # pipeline requires\n",
    "    for k, v in tagged_output.items():\n",
    "        tagged_output[k] = [v]\n",
    "\n",
    "    return tagged_df, tagged_output"
   ]
  },
  {
   "cell_type": "code",
   "execution_count": 102,
   "metadata": {},
   "outputs": [
    {
     "name": "stdout",
     "output_type": "stream",
     "text": [
      "huggingface/tokenizers: The current process just got forked, after parallelism has already been used. Disabling parallelism to avoid deadlocks...\n",
      "To disable this warning, you can either:\n",
      "\t- Avoid using `tokenizers` before the fork if possible\n",
      "\t- Explicitly set the environment variable TOKENIZERS_PARALLELISM=(true | false)\n",
      "/Users/rohith/opt/anaconda3/bin/python\n"
     ]
    }
   ],
   "source": [
    "!which python"
   ]
  },
  {
   "cell_type": "code",
   "execution_count": 37,
   "metadata": {},
   "outputs": [],
   "source": [
    "class MarkupLMDataset(Dataset):\n",
    "    \"\"\"Dataset for token classification with MarkupLM.\"\"\"\n",
    "\n",
    "    def __init__(self, data, processor=None, max_length=512, is_train=True):\n",
    "        self.data = data\n",
    "        self.is_train = is_train\n",
    "        self.processor = processor\n",
    "        self.max_length = max_length\n",
    "        self.encodings = []\n",
    "        self.get_encoding_windows()\n",
    "        \n",
    "\n",
    "    def get_encoding_windows(self):\n",
    "        \"\"\"Splits the tokenized input into windows of 512 tokens\"\"\"\n",
    "          \n",
    "        for item in self.data:            \n",
    "            if self.is_train:\n",
    "                nodes, xpaths, node_labels = (\n",
    "                    item[\"nodes\"],\n",
    "                    item[\"xpaths\"],\n",
    "                    item['node_labels']\n",
    "                )\n",
    "            else:\n",
    "                \n",
    "                nodes, xpaths, node_labels = (\n",
    "                    item[\"nodes\"],\n",
    "                    item[\"xpaths\"],\n",
    "                    None\n",
    "                )                \n",
    "                # print(len(nodes[0]), len(xpaths[0]))\n",
    "                # print(nodes, xpaths)\n",
    "                \n",
    "            # provide encoding to processor\n",
    "            encoding = self.processor(\n",
    "                nodes=nodes,\n",
    "                xpaths=xpaths,\n",
    "                node_labels=node_labels,\n",
    "                padding=\"max_length\",\n",
    "                max_length=self.max_length,\n",
    "                return_tensors=\"pt\",\n",
    "                truncation=False,\n",
    "                return_offsets_mapping=True\n",
    "            )\n",
    "\n",
    "            # remove batch dimension\n",
    "            encoding = {k: v.squeeze() for k, v in encoding.items()}\n",
    "\n",
    "            # chunk up the encoding sequences to that it is less than the \n",
    "            # max input length of 512 tokens\n",
    "            if not self.is_train:\n",
    "                num_tokens = len(item['nodes'][0])\n",
    "                \n",
    "                for idx in range(0, num_tokens, self.max_length):\n",
    "                    batch_encoding = {}\n",
    "                    for k, v in encoding.items():\n",
    "                        batch_encoding[k] = v[idx: idx + self.max_length]\n",
    "\n",
    "                    self.encodings.append(batch_encoding)                    \n",
    "                    continue\n",
    "            \n",
    "            else:\n",
    "                if len(encoding[\"input_ids\"]) <= self.max_length:                    \n",
    "                    self.encodings.append(encoding)\n",
    "                    continue\n",
    "\n",
    "                else:\n",
    "                    batch_encoding = {}\n",
    "\n",
    "                    start_idx, end_idx = 0, self.max_length\n",
    "\n",
    "                    while end_idx < len(encoding[\"input_ids\"]):\n",
    "                        # decrement the end_idx by 1 until the label is not -100\n",
    "                        while encoding[\"labels\"][end_idx] == -100:\n",
    "                            end_idx = end_idx - 1\n",
    "\n",
    "                            # if the end idx is equal to the start idx meaning\n",
    "                            # we don't encounter a non -100 token,\n",
    "                            # we set window size as the max_length\n",
    "                            if end_idx == start_idx:\n",
    "                                end_idx = start_idx + self.max_length\n",
    "                                break\n",
    "\n",
    "                        for k, v in encoding.items():\n",
    "                            batch_encoding[k] = v[start_idx:end_idx]\n",
    "\n",
    "                        self.encodings.append(batch_encoding)\n",
    "                        batch_encoding = {}\n",
    "\n",
    "                        # update the pointers\n",
    "                        start_idx = end_idx\n",
    "                        end_idx = end_idx + self.max_length\n",
    "\n",
    "                    # collect the remaining tokens\n",
    "                    for k, v in encoding.items():\n",
    "                        batch_encoding[k] = v[start_idx:]\n",
    "\n",
    "                    if batch_encoding:\n",
    "                        self.encodings.append(batch_encoding)\n",
    "\n",
    "    def __len__(self):\n",
    "        return len(self.encodings)\n",
    "\n",
    "    def __getitem__(self, idx):\n",
    "        # first, get nodes, xpaths and node labels\n",
    "        item = self.encodings[idx]\n",
    "\n",
    "        # pad the encodings to max_length of 512 tokens\n",
    "        padded_item = self.processor.tokenizer.pad(\n",
    "            item, max_length=self.max_length, padding=\"max_length\", return_tensors=\"pt\"\n",
    "        )\n",
    "\n",
    "        return padded_item"
   ]
  },
  {
   "cell_type": "markdown",
   "metadata": {},
   "source": [
    "## Define Inference Loop and Main Function Execution"
   ]
  },
  {
   "cell_type": "code",
   "execution_count": 38,
   "metadata": {},
   "outputs": [],
   "source": [
    "def run_inference_loop(dataloader, model, device, config, processor):\n",
    "    '''Runs eval loop for entire dataset\n",
    "\n",
    "    Args:\n",
    "        dataloader: torch.utils.data.DataLoader: iterator over Dataset object\n",
    "        model: transformers.PreTrainedModel. fine-tuned MarkupLM model\n",
    "        device: torch.device. Specifies whether GPU is available for computation\n",
    "        label_list: list. List of labels used to train the MarkupLM model\n",
    "        config: dict. Contains user-provided params and args\n",
    "\n",
    "    Returns:\n",
    "        None\n",
    "    '''\n",
    "    model.eval()\n",
    "    \n",
    "    results = {\"nodes\": [], \"preds\": []}\n",
    "    for batch in tqdm(dataloader, desc='inference_loop'):\n",
    "        # get the inputs;\n",
    "        inputs = {k: v.to(device) for k, v in batch.items()}\n",
    "\n",
    "        # if ablation mode is set to true then\n",
    "        # either mask the xpaths or shuffle them\n",
    "        print(config[\"ablation\"])\n",
    "        if config[\"ablation\"][\"run_ablation\"]:\n",
    "            inputs = utils.ablation(config, inputs)\n",
    "\n",
    "        # get the offset mapping. It contains the spans of the \n",
    "        # words that were split during tokenization. \n",
    "        # Info present at a token level\n",
    "        offset_mapping = inputs.pop('offset_mapping').squeeze().tolist()\n",
    "\n",
    "        # forward + backward + optimize\n",
    "        outputs = model(**inputs)\n",
    "\n",
    "        predictions = outputs.logits.argmax(dim=-1)\n",
    "        pred_labels = [model.config.id2label[id] for id in predictions.squeeze().tolist()]\n",
    "        \n",
    "        input_ids = inputs['input_ids'].detach().numpy().flatten().tolist()\n",
    "        input_word_pieces = [processor.decode([id]) for id in input_ids]\n",
    "        \n",
    "        \n",
    "        # input_ids = [x for x in input_ids if x not in special_tokens]\n",
    "        # print(input_ids)\n",
    "        results['nodes'].append(input_word_pieces)\n",
    "        results['preds'].append(pred_labels)\n",
    "                                \n",
    "    return results"
   ]
  },
  {
   "cell_type": "code",
   "execution_count": 81,
   "metadata": {},
   "outputs": [],
   "source": [
    "def main(config, test_data, model_ckpt_path=None, is_train=False):\n",
    "    '''Main execution of script'''\n",
    "    # get the  list of labels along with the label to id mapping and\n",
    "    # reverse mapping\n",
    "    label_list, id2label, label2id = utils.get_label_list(config)\n",
    "    \n",
    "    # define the processor and model\n",
    "    if config[\"model\"][\"use_large_model\"]:\n",
    "        processor = MarkupLMProcessor.from_pretrained(\n",
    "            \"microsoft/markuplm-large\",\n",
    "            only_label_first_subword=config['model']['label_only_first_subword']\n",
    "        )\n",
    "        model = MarkupLMForTokenClassification.from_pretrained(\n",
    "            \"microsoft/markuplm-large\", id2label=id2label, label2id=label2id\n",
    "        )\n",
    "\n",
    "    else:\n",
    "        processor = MarkupLMProcessor.from_pretrained(\n",
    "            \"microsoft/markuplm-base\",\n",
    "            only_label_first_subword=config['model']['label_only_first_subword'],\n",
    "        )\n",
    "        model = MarkupLMForTokenClassification.from_pretrained(\n",
    "            \"microsoft/markuplm-base\", id2label=id2label, label2id=label2id\n",
    "        )\n",
    "        \n",
    "    if model_ckpt_path is not None:\n",
    "        model_ckpt = torch.load(model_ckpt_path, \n",
    "                                map_location='cpu')\n",
    "        \n",
    "        model.load_state_dict(model_ckpt)\n",
    "        \n",
    "\n",
    "    processor.parse_html = False\n",
    "    \n",
    "    # convert the input dataset\n",
    "    # to torch datasets. Create the dataloaders as well\n",
    "    test_dataset = MarkupLMDataset(\n",
    "        data=test_data,\n",
    "        processor=processor,\n",
    "        max_length=config[\"model\"][\"max_length\"],\n",
    "        is_train=is_train\n",
    "    )\n",
    "\n",
    "    test_dataloader = DataLoader(\n",
    "        test_dataset,\n",
    "        batch_size=1,\n",
    "        shuffle=False\n",
    "    )\n",
    "\n",
    "    model.to(device)  # move to GPU if available\n",
    "\n",
    "    print(\"*\" * 50)\n",
    "    print(f'Running Inference Loop!')\n",
    "    print(\"*\" * 50)\n",
    "\n",
    "    # run inference loop\n",
    "    results = run_inference_loop(test_dataloader, model, device, \n",
    "                                     config, processor)\n",
    "\n",
    "\n",
    "    return results"
   ]
  },
  {
   "cell_type": "markdown",
   "metadata": {},
   "source": [
    "# Inference Execution"
   ]
  },
  {
   "cell_type": "markdown",
   "metadata": {},
   "source": [
    "## Specify the input params\n",
    "\n",
    "Trained model checkpoints are available in this Google Drive directory: https://drive.google.com/drive/folders/1SGeSA9OLBYcpl_l0SFIjaP445KfEzcp-"
   ]
  },
  {
   "cell_type": "code",
   "execution_count": 82,
   "metadata": {},
   "outputs": [],
   "source": [
    "config_path = './configs/config.yaml'\n",
    "\n",
    "test_contract_dir = \"../contracts/test\"\n",
    "\n",
    "# if loading from ckpt then change the line below\n",
    "model_ckpt_path = \"/Users/rohith/Documents/Independent Study - DSGA1006/MarkupMnA-Markup-Based-Segmentation-of-MnA-Agreements/pretrained_models/markuplm_base_model_ablation_shuffle_num_contract_100pct_f1-0.871.pt\"\n",
    "\n",
    "max_length = 512\n",
    "test_batch_size = 1"
   ]
  },
  {
   "cell_type": "code",
   "execution_count": 83,
   "metadata": {},
   "outputs": [],
   "source": [
    "# read the config file \n",
    "with open(config_path, 'r') as yml:\n",
    "    config = yaml.safe_load(yml)"
   ]
  },
  {
   "cell_type": "code",
   "execution_count": 84,
   "metadata": {},
   "outputs": [],
   "source": [
    "label_list, id2label, label2id = utils.get_label_list(config)\n",
    "num_labels = len(label2id)"
   ]
  },
  {
   "cell_type": "code",
   "execution_count": 85,
   "metadata": {},
   "outputs": [
    {
     "name": "stdout",
     "output_type": "stream",
     "text": [
      "Found 1 in test dir\n"
     ]
    }
   ],
   "source": [
    "test_contracts = glob.glob(os.path.join(test_contract_dir, \"*.csv\"))\n",
    "\n",
    "test_contracts = [test_contracts[0]]\n",
    "\n",
    "print(f\"Found {len(test_contracts)} in test dir\")"
   ]
  },
  {
   "cell_type": "markdown",
   "metadata": {},
   "source": [
    "## View the input csvs obtained from webapp"
   ]
  },
  {
   "cell_type": "code",
   "execution_count": 86,
   "metadata": {},
   "outputs": [
    {
     "data": {
      "text/plain": [
       "'../contracts/test/contract_69.csv'"
      ]
     },
     "execution_count": 86,
     "metadata": {},
     "output_type": "execute_result"
    }
   ],
   "source": [
    "test_contracts[0]"
   ]
  },
  {
   "cell_type": "code",
   "execution_count": 87,
   "metadata": {},
   "outputs": [
    {
     "data": {
      "text/html": [
       "<div>\n",
       "<style scoped>\n",
       "    .dataframe tbody tr th:only-of-type {\n",
       "        vertical-align: middle;\n",
       "    }\n",
       "\n",
       "    .dataframe tbody tr th {\n",
       "        vertical-align: top;\n",
       "    }\n",
       "\n",
       "    .dataframe thead th {\n",
       "        text-align: right;\n",
       "    }\n",
       "</style>\n",
       "<table border=\"1\" class=\"dataframe\">\n",
       "  <thead>\n",
       "    <tr style=\"text-align: right;\">\n",
       "      <th></th>\n",
       "      <th>xpaths</th>\n",
       "      <th>text</th>\n",
       "      <th>highlighted_xpaths</th>\n",
       "      <th>highlighted_segmented_text</th>\n",
       "      <th>tagged_sequence</th>\n",
       "    </tr>\n",
       "  </thead>\n",
       "  <tbody>\n",
       "    <tr>\n",
       "      <th>0</th>\n",
       "      <td>/html/body/document/type</td>\n",
       "      <td>EX-2.1</td>\n",
       "      <td>NaN</td>\n",
       "      <td>NaN</td>\n",
       "      <td>o</td>\n",
       "    </tr>\n",
       "    <tr>\n",
       "      <th>1</th>\n",
       "      <td>/html/body/document/type/sequence</td>\n",
       "      <td>2</td>\n",
       "      <td>NaN</td>\n",
       "      <td>NaN</td>\n",
       "      <td>o</td>\n",
       "    </tr>\n",
       "    <tr>\n",
       "      <th>2</th>\n",
       "      <td>/html/body/document/type/sequence/filename</td>\n",
       "      <td>d222750dex21.htm</td>\n",
       "      <td>NaN</td>\n",
       "      <td>NaN</td>\n",
       "      <td>o</td>\n",
       "    </tr>\n",
       "    <tr>\n",
       "      <th>3</th>\n",
       "      <td>/html/body/document/type/sequence/filename/des...</td>\n",
       "      <td>EX-2.1</td>\n",
       "      <td>NaN</td>\n",
       "      <td>NaN</td>\n",
       "      <td>o</td>\n",
       "    </tr>\n",
       "    <tr>\n",
       "      <th>4</th>\n",
       "      <td>/html/body/document/type/sequence/filename/des...</td>\n",
       "      <td>EX-2.1</td>\n",
       "      <td>NaN</td>\n",
       "      <td>NaN</td>\n",
       "      <td>o</td>\n",
       "    </tr>\n",
       "  </tbody>\n",
       "</table>\n",
       "</div>"
      ],
      "text/plain": [
       "                                              xpaths              text  \\\n",
       "0                           /html/body/document/type            EX-2.1   \n",
       "1                  /html/body/document/type/sequence                 2   \n",
       "2         /html/body/document/type/sequence/filename  d222750dex21.htm   \n",
       "3  /html/body/document/type/sequence/filename/des...            EX-2.1   \n",
       "4  /html/body/document/type/sequence/filename/des...            EX-2.1   \n",
       "\n",
       "  highlighted_xpaths highlighted_segmented_text tagged_sequence  \n",
       "0                NaN                        NaN               o  \n",
       "1                NaN                        NaN               o  \n",
       "2                NaN                        NaN               o  \n",
       "3                NaN                        NaN               o  \n",
       "4                NaN                        NaN               o  "
      ]
     },
     "execution_count": 87,
     "metadata": {},
     "output_type": "execute_result"
    }
   ],
   "source": [
    "ddf = pd.read_csv(test_contracts[0])\n",
    "\n",
    "ddf.head()"
   ]
  },
  {
   "cell_type": "code",
   "execution_count": 88,
   "metadata": {},
   "outputs": [],
   "source": [
    "test_data = [] \n",
    "for tagged_path in test_contracts:\n",
    "    tagged_output = create_raw_dataset(tagged_path, \n",
    "                                       id2label=id2label, \n",
    "                                       label2id=label2id,\n",
    "                                       is_train=False)\n",
    "\n",
    "    test_data.append(tagged_output)\n",
    "    "
   ]
  },
  {
   "cell_type": "code",
   "execution_count": 89,
   "metadata": {},
   "outputs": [],
   "source": [
    "# test_data[0]\n",
    "# test_dataset_output"
   ]
  },
  {
   "cell_type": "code",
   "execution_count": 90,
   "metadata": {},
   "outputs": [],
   "source": [
    "# for k,v in test_data[0].items():\n",
    "#   print(k,v)"
   ]
  },
  {
   "cell_type": "markdown",
   "metadata": {},
   "source": [
    "### Run the inference pipeline"
   ]
  },
  {
   "cell_type": "code",
   "execution_count": 91,
   "metadata": {},
   "outputs": [],
   "source": [
    "# results = main(config, test_data, model_ckpt_path=model_ckpt_path,is_train=False)"
   ]
  },
  {
   "cell_type": "code",
   "execution_count": 92,
   "metadata": {},
   "outputs": [],
   "source": [
    "# df = pd.DataFrame.from_dict(results)"
   ]
  },
  {
   "cell_type": "code",
   "execution_count": 93,
   "metadata": {},
   "outputs": [],
   "source": [
    "# df.head()"
   ]
  },
  {
   "cell_type": "code",
   "execution_count": 94,
   "metadata": {},
   "outputs": [],
   "source": [
    "# df = df.explode(['nodes', 'preds'])"
   ]
  },
  {
   "cell_type": "code",
   "execution_count": 95,
   "metadata": {},
   "outputs": [],
   "source": [
    "# df.head()"
   ]
  },
  {
   "cell_type": "code",
   "execution_count": null,
   "metadata": {},
   "outputs": [],
   "source": []
  },
  {
   "cell_type": "code",
   "execution_count": null,
   "metadata": {},
   "outputs": [],
   "source": []
  },
  {
   "cell_type": "code",
   "execution_count": 96,
   "metadata": {},
   "outputs": [],
   "source": [
    "# Actual file url: https://www.sec.gov/Archives/edgar/data/1514056/000149315223024375/formsc13d.htm\n",
    "html_file_path = '/Users/rohith/Documents/Independent Study - DSGA1006/MarkupMnA-Markup-Based-Segmentation-of-MnA-Agreements/test_html.htm'\n",
    "html_test_nodes_path = '/Users/rohith/Documents/Independent Study - DSGA1006/MarkupMnA-Markup-Based-Segmentation-of-MnA-Agreements/test_html_all_nodes.json'"
   ]
  },
  {
   "cell_type": "code",
   "execution_count": 97,
   "metadata": {},
   "outputs": [],
   "source": [
    "# Convert file to csv of xpaths and texts, no tags\n",
    "dataset_df, test_dataset_output = create_raw_dataset_any_html(html_test_nodes_path)"
   ]
  },
  {
   "cell_type": "code",
   "execution_count": 98,
   "metadata": {},
   "outputs": [
    {
     "name": "stderr",
     "output_type": "stream",
     "text": [
      "Some weights of the model checkpoint at microsoft/markuplm-base were not used when initializing MarkupLMForTokenClassification: ['nrp_cls.dense.weight', 'cls.predictions.transform.dense.weight', 'cls.predictions.transform.LayerNorm.weight', 'nrp_cls.LayerNorm.weight', 'nrp_cls.dense.bias', 'markuplm.pooler.dense.bias', 'cls.predictions.decoder.bias', 'nrp_cls.decoder.bias', 'ptc_cls.bias', 'cls.predictions.bias', 'ptc_cls.weight', 'cls.predictions.transform.dense.bias', 'cls.predictions.transform.LayerNorm.bias', 'nrp_cls.LayerNorm.bias', 'cls.predictions.decoder.weight', 'nrp_cls.decoder.weight', 'markuplm.pooler.dense.weight']\n",
      "- This IS expected if you are initializing MarkupLMForTokenClassification from the checkpoint of a model trained on another task or with another architecture (e.g. initializing a BertForSequenceClassification model from a BertForPreTraining model).\n",
      "- This IS NOT expected if you are initializing MarkupLMForTokenClassification from the checkpoint of a model that you expect to be exactly identical (initializing a BertForSequenceClassification model from a BertForSequenceClassification model).\n",
      "Some weights of MarkupLMForTokenClassification were not initialized from the model checkpoint at microsoft/markuplm-base and are newly initialized: ['classifier.weight', 'classifier.bias']\n",
      "You should probably TRAIN this model on a down-stream task to be able to use it for predictions and inference.\n"
     ]
    },
    {
     "name": "stdout",
     "output_type": "stream",
     "text": [
      "1\n",
      "[{'nodes': [['SC 13D', '1', 'formsc13d.htm', 'UNITED\\nSTATES', 'SECURITIES\\nAND EXCHANGE COMMISSION', 'Washington,\\nD.C. 20549', 'SCHEDULE\\n13D', 'Under\\nthe Securities Exchange Act of 1934', '(Amendment\\nNo. )', 'TraQiQ,\\n    Inc.', '(Name\\n    of Issuer)', 'Common\\n    Stock, par value $0.0001 per share', '(Title\\n    of Class of Securities)', '89416R101', '(CUSIP\\n    Number)', 'Richard\\n                                            Rafferty', '901\\n    Main Street, Suite 6000', 'Dallas,\\n    Texas 75202', '(214)\\n    651-4300', '(Name,\\n    Address and Telephone Number of Person Authorized to Receive Notices and Communications)', 'May\\n    19, 2023', '(Date\\n    of Event which Requires Filing of this Statement)', 'If\\nthe filing person has previously filed a statement on Schedule 13G to report the acquisition that is the subject of this Schedule 13D,\\nand is filing this schedule because of 240.13d-1(e), 240.13d-1(f) or 240.13d-1(g), check the following box ☐.', 'The\\ninformation required on the remainder of this cover page shall not be deemed to be “filed” for the purpose of Section 18\\nof the Securities Exchange Act of 1934 (“Act”) or otherwise subject to the liabilities of that section of the Act but shall\\nbe subject to all other provisions of the Act. However, see the notes.', 'CUSIP\\n    89416R101', 'SCHEDULE\\n    13D', 'Page\\n    2 of 8', '1.', 'Names\\n    of Reporting Persons', 'Jeff\\n    Rizzo', '2.', 'Check\\n    the Appropriate Box if a Member of a Group', '(a)', '☐', '(b)', '☒', '3.', 'Sec\\n    Use Only', '4.', 'Source\\n    of Funds', 'OO', '5.', 'Check\\n    if Disclosure of Legal Proceedings is Required Pursuant to Items 2(d) or 2(e)', '☐', '6.', 'Citizenship\\n    or Place of Organization', 'United\\n    States of America', 'Number\\n                                            of', 'Shares', 'Beneficially', 'Owned\\n    by', 'Each\\n    Reporting', 'Person\\n    With:', '7.', 'Sole\\n    Voting Power', '20,532,641', '8.', 'Shared\\n    Voting Power', '15,982,590', '9.', 'Sole\\n    Dispositive Power', '20,532,641', '10.', 'Shared\\n    Dispositive Power', '15,982,590', '11.', 'Aggregate\\n    Amount Beneficially Owned by Each Reporting Person', '20,532,641', '12.', 'Check\\n    Box if the Aggregate Amount in Row (11) Excludes Certain Shares', '☒', '13.', 'Percent\\n    of Class Represented by Amount in Row (11)', '37.7%', '14.', 'Type\\n    of Reporting Person', 'IN', 'CUSIP\\n    89416R101', 'SCHEDULE\\n    13D', 'Page\\n    3 of 8', '1.', 'Names\\n    of Reporting Persons', 'Titan\\n    Holdings 2, LLC', '2.', 'Check\\n    the Appropriate Box if a Member of a Group', '(a)\\n                                            ☐', '(b)', '☒', '3.', 'Sec\\n    Use Only', '4.', 'Source\\n    of Funds', 'OO', '5.', 'Check\\n    if Disclosure of Legal Proceedings is Required Pursuant to Items 2(d) or 2(e)', '☐', '6.', 'Citizenship\\n    or Place of Organization', 'Michigan', 'Number\\n                                            of', 'Shares', 'Beneficially', 'Owned\\n    by', 'Each\\n    Reporting', 'Person\\n    With:', '7.', 'Sole\\n    Voting Power', '0', '8.', 'Shared\\n    Voting Power', '15,982,590', '9.', 'Sole\\n    Dispositive Power', '0', '10.', 'Shared\\n    Dispositive Power', '15,982,590', '11.', 'Aggregate\\n    Amount Beneficially Owned by Each Reporting Person', '15,982,590', '12.', 'Check\\n    Box if the Aggregate Amount in Row (11) Excludes Certain Shares', '☐', '13.', 'Percent\\n    of Class Represented by Amount in Row (11)', '32.0%', '14.', 'Type\\n    of Reporting Person', 'OO', 'CUSIP\\n    89416R101', 'SCHEDULE\\n    13D', 'Page\\n    4 of 8', '1.', 'Names\\n    of Reporting Persons', 'Marilyn\\n    D. Rizzo Trust Dated April 23, 2010, as amended', '2.', 'Check\\n    the Appropriate Box if a Member of a Group', '(a)', '☐', '(b)', '☒', '3.', 'Sec\\n    Use Only', '4.', 'Source\\n    of Funds', 'OO', '5.', 'Check\\n    if Disclosure of Legal Proceedings is Required Pursuant to Items 2(d) or 2(e)', '☐', '6.', 'Citizenship\\n    or Place of Organization', 'Michigan', 'Number\\n                                            of', 'Shares', 'Beneficially', 'Owned\\n    by', 'Each\\n    Reporting', 'Person\\n    With:', '7.', 'Sole\\n    Voting Power', '0', '8.', 'Shared\\n    Voting Power', '15,982,590', '9.', 'Sole\\n    Dispositive Power', '0', '10.', 'Shared\\n    Dispositive Power', '15,982,590', '11.', 'Aggregate\\n    Amount Beneficially Owned by Each Reporting Person', '15,982,590', '12.', 'Check\\n    Box if the Aggregate Amount in Row (11) Excludes Certain Shares', '☐', '13.', 'Percent\\n    of Class Represented by Amount in Row (11)', '32.0%', '14.', 'Type\\n    of Reporting Person', 'OO', 'CUSIP\\n    89416R101', 'SCHEDULE\\n    13D', 'Page\\n    5 of 8', '1.', 'Names\\n    of Reporting Persons', 'Marilyn\\n    Rizzo', '2.', 'Check\\n    the Appropriate Box if a Member of a Group', '(a)', '☐', '(b)', '☒', '3.', 'Sec\\n    Use Only', '4.', 'Source\\n    of Funds', 'OO', '5.', 'Check\\n    if Disclosure of Legal Proceedings is Required Pursuant to Items 2(d) or 2(e)', '☐', '6.', 'Citizenship\\n    or Place of Organization', 'United\\n    States of America', 'Number\\n                                            of', 'Shares', 'Beneficially', 'Owned\\n    by', 'Each\\n    Reporting', 'Person\\n    With:', '7.', 'Sole\\n                                            Voting Power', '8.', 'Shared\\n    Voting Power', '15,982,590', '9.', 'Sole\\n    Dispositive Power', '0', '10.', 'Shared\\n    Dispositive Power', '15,982,590', '11.', 'Aggregate\\n    Amount Beneficially Owned by Each Reporting Person', '15,982,590', '12.', 'Check\\n    Box if the Aggregate Amount in Row (11) Excludes Certain Shares', '☐', '13.', 'Percent\\n    of Class Represented by Amount in Row (11)', '32.0%', '14.', 'Type\\n    of Reporting Person', 'IN', 'CUSIP\\n    89416R101', 'SCHEDULE\\n    13D', 'Page\\n    6 of 8', 'ITEM\\n    1.', 'SECURITY\\n    AND ISSUER', 'This\\nSchedule 13D relates to the Common Stock, par value $0.0001 per share (the “Common Stock”), of TraQIQ, Inc., a California\\ncorporation (the “Company”). The address of the principal executive offices of the Company 1931 Austin Drive, Troy, Michigan\\n48083.', 'ITEM\\n    2.', 'IDENTITY\\n    AND BACKGROUND', '(a)\\nThis Schedule 13D is being filed by (1) Jeff Rizzo in his individual capacity and also as the sole manager of Holdings (“Jeff\\nRizzo”), (2) Titan Holdings 2, LLC, a Michigan limited lability company (“Holdings”), (3) The Marilyn D. Rizzo\\nTrust Dated April 23, 2010, as amended, which is the sole member of Holdings (the “Trust”), and (4) Marilyn Rizzo as the\\nsole trustee and beneficiary of the Trust (“Marilyn Rizzo”) (the foregoing being collectively referred to as the\\n“Reporting Persons”). The Reporting Persons expressly disclaim the existence of any “group” within the\\nmeaning of Section 13(d)(3) of the Securities Exchange Act of 1934, as amended, between themselves or with any other person, with\\nrespect to the Common Stock.', '(b)\\nThe business address of each of Jeff Rizzo, Holdings, the Trust, and Marilyn Rizzo is 1931 Austin Drive, Troy, Michigan\\n48083.', '(c)\\nIn his individual capacity, Jeff Rizzo is an executive officer of Titan Trucking, LLC (“Titan Trucking”) and the Chief\\nOperating Officer and a member of the Company’s board of directors. Titan Trucking is an operating subsidiary of the Company,\\nand its address is 1931 Austin Drive, Troy, Michigan 48083. Titan Trucking is a waste collection and trucking company specializing\\nin the hauling of municipal solid waste and construction and demolition debris for industrial generators, commercial contractors,\\nand transfer station operators. As the manager of Holdings, Jeff Rizzo oversees and manages the business and affairs of Holdings.\\nMarilyn Rizzo is not employed at this time as she is a retiree. Marilyn Rizzo is the grantor and sole trustee of the Trust, which is\\nthe sole member of Holdings, and as such has the authority remove and appoint the manager of Holdings. Marilyn Rizzo is also the\\nsole beneficiary of the Trust.', '(d)\\nDuring the last five years, none of the Reporting Persons has been convicted in a criminal proceeding (excluding traffic violations\\nor similar misdemeanors).', '(e)\\nDuring the last five years, none of the Reporting Persons been a party to a civil proceeding of a judicial or administrative body of\\ncompetent jurisdiction and as a result of such proceeding was or is subject to a judgment, decree, or final order enjoining future\\nviolations of, or prohibiting or mandating activities subject to, federal or state securities laws or finding any violation with\\nrespect to such laws.', '(f)\\nEach of Jeff Rizzo and Marilyn Rizzo is a citizen of the United States of America. The Trust is a trust governed by the laws of the\\nState of Michigan. Holdings is a limited lability company that was organized under the laws of, and is domiciled in, the State of\\nMichigan.', 'ITEM\\n    3.', 'SOURCE\\n    AND AMOUNT OF FUNDS OR OTHER CONSIDERATION', 'Jeff\\nRizzo received 205,326.41 shares of the Company’s Series C Convertible Preferred Stock (the “Series C Preferred Stock”)\\nas consideration for the Company’s acquisition of Titan Trucking. Holdings received 159,825.90 shares of Series C Preferred Stock\\nas consideration for the Company’s acquisition of Titan Trucking. Each share of Series C Preferred Stock is convertible into 100\\nshares of the Company’s Common Stock.', 'ITEM\\n    4.', 'PURPOSE\\n    OF TRANSACTION', 'Each\\nof Jeff Rizzo, Holdings, the Trust, and Marilyn Rizzo acquired the securities, directly or indirectly, as applicable, of the Company\\nreported herein as an investment. Each of the Reporting Persons holds the Company’s securities for investment purposes. None of\\nthe Reporting Persons have any present plans or proposals with respect to any of the matters set forth in subparagraphs (a)-(j) of Item\\n4 of Schedule 13D.', 'Each\\nof Jeff Rizzo, Holdings, the Trust, and Marilyn Rizzo intends to assess its investment in the Company on a continuing basis. Depending\\non various factors, including without limitation their perceptions of the Company’s actual and prospective financial condition,\\nresults of operations, cash flows, liquidity, capital resources and other attributes, the respective price levels of the Common Stock,\\nconditions in the securities markets, and general economic and industry conditions, any or all of them may in the future take such actions\\nwith respect to their investment in the Company as the they may deem appropriate, including without limitation purchasing additional\\nshares of Common Stock or other securities of the Company or selling or otherwise disposing of some or all of their shares of Common\\nStock or other securities of the Company.', 'ITEM\\n    5.', 'INTEREST\\n    IN SECURITIES OF THE ISSUER', '(a)\\nAs of the date of this Schedule 13D, Jeff Rizzo beneficially owns an aggregate of 20,532,640 shares of Common Stock (the “J Rizzo\\nShares”), of which 0 are outstanding shares of Common Stock and 20,532,640 are shares of Common Stock that are issuable upon the\\nconversion of 205,326.41 shares of the Company’s Series C Preferred Stock owned beneficially and of record by Jeff Rizzo. The J\\nRizzo Shares represent 37.7% of the shares of Common Stock outstanding, with the number of shares of Common Stock deemed to be outstanding\\nfor purposes of this Schedule 13D being 54,472,606 (which represents the sum of (x) 33,939,655, which according to information provided\\nby the Company to the Reporting Persons represents the total number shares of Common Stock outstanding as of May 19, 2023 and (y) the\\n20,532,640 shares of Common Stock issuable upon conversion of the shares of Series C Preferred Stock beneficially owned by Jeff Rizzo).\\nEach of the Reporting Persons disclaims responsibility for the accuracy of the information provided by the Company.', 'CUSIP\\n    89416R101', 'SCHEDULE\\n    13D', 'Page\\n    7 of 8', 'As\\nof the date of this Schedule 13D, Holdings beneficially owns an aggregate of 15,982,590 shares of Common Stock (the “Holdings Shares”),\\nof which 0 are outstanding shares of Common Stock and 15,982,590 are shares of Common Stock that are issuable upon the conversion of\\n159,825.90 shares of the Company’s Series C Preferred Stock owned beneficially and of record by Holdings. The Holdings Shares represent\\n32.0% of the shares of Common Stock outstanding, with the number of shares of Common Stock deemed to be outstanding for purposes of this\\nSchedule 13D being 49,922,555 (which represents the sum of (x) 33,939,655, which according to information provided by the Company to\\nthe Reporting Persons represents the total number shares of Common Stock outstanding as of May 19, 2023, and (y) the 15,982,590 shares\\nof Common Stock issuable upon conversion of the shares of Series C Preferred Stock beneficially owned by Holdings).', 'As\\nof the date of this Schedule 13D, the Trust, as the sole member of Holdings, indirectly beneficially owns the Holdings Shares.', 'As\\nof the date of this Schedule 13D, Marylin Rizzo, as a beneficiary of the Trust, indirectly beneficially owns the Holdings Shares.', '(b)\\nJeff Rizzo has the sole power to vote and dispose of the J Rizzo Shares. As of the date of this Schedule 13D, 0 of the J Rizzo Shares\\nare outstanding shares of Common Stock and 20,532,640 are shares of Common Stock that are issuable upon the conversion of 205,326.41\\nshares of the Company’s Series C Preferred Stock owned beneficially and of record by Jeff Rizzo. The J Rizzo Shares represent 37.7%\\nof the shares of Common Stock outstanding, with the number of shares of Common Stock deemed to be outstanding for purposes of this Schedule\\n13D being 54,472,606 (which represents the sum of (x) 33,939,655, which according to information provided by the Company to the Reporting\\nPersons represents the total number shares of Common Stock outstanding as of May 19, 2023, and (y) the 20,532,640 shares of Common Stock\\nissuable upon conversion of the shares of Series C Preferred Stock beneficially owned by Jeff Rizzo).', 'Jeff\\nRizzo, Holdings, the Trust, and Marilyn Rizzo share the power to vote and dispose of the Holdings Shares. As of the date of this Schedule\\n13D, 0 of the Holdings Shares are outstanding shares of Common Stock and 15,982,590 are shares of Common Stock that are issuable upon\\nthe conversion of 159,825.90 shares of the Company’s Series C Preferred Stock owned beneficially and of record by Holdings. The\\nHoldings Shares represent 32.0% of the shares of Common Stock outstanding, with the number of shares of Common Stock deemed to be outstanding\\nfor purposes of this Schedule 13D being 49,922,555 (which represents the sum of (x) 33,939,655, which according to information provided\\nby the Company to the Reporting Persons represents the total number shares of Common Stock outstanding as of May 19, 2023, and (y) the\\n15,982,590 shares of Common Stock issuable upon conversion of the shares of Series C Preferred Stock beneficially owned by Holdings).', '(c)\\nOther than the acquisition of the shares of Series C Preferred Stock as described in Item 3 above (incorporated herein by reference),\\nnone of the Reporting Persons effected any transactions in shares of the Company’s Common Stock, in any capacity, during the 60\\ndays immediately preceding the date of this Schedule 13D. Each of Jeff Rizzo and Holdings became the record holder of their respective\\nshares of Series C Preferred Stock on May 19, 2023 in connection with the Company’s acquisition of Titan Trucking at an\\nagreed value of $12.839 per share of Series C Preferred Stock.', '(d)\\nNot applicable.', '(e)\\nNot applicable.', 'ITEM\\n    6.', 'CONTRACTS,\\n    ARRANGEMENTS, UNDERSTANDINGS OR RELATIONSHIPS WITH RESPECT TO SECURITIES OF THE ISSUER', 'Except\\nfor (1) the relationships among the Reporting Persons described elsewhere herein, (2) the respective agreements pursuant to which the\\nsecurities of the Company referred to herein were acquired from the Company by a Reporting Person, and (3) the Company’s governing\\ndocuments or other instruments setting forth the designations, preferences, rights, restrictions, obligations and other characteristics\\nor terms of the securities of the Company referred to herein that were acquired from the Company by a Reporting Person, none of the Reporting\\nPersons is a party to any contract, arrangement, understanding or relationship with respect to any securities of the Company.', 'The\\nTrust is the sole member of Holdings, and Marylin Rizzo is the sole trustee and a beneficiary of the Trust. Each of the Trust and Marylin\\nRizzo disclaims beneficial ownership of the shares of Common Stock reported as beneficially owned by it and her. Jeff Rizzo is the sole\\nmanager of, but not a member of, Holdings, and disclaims beneficial ownership of the Holdings Shares.', 'ITEM\\n    7.', 'MATERIAL\\n    TO BE FILED AS EXHIBITS', 'Exhibit', 'Description', '7.1', 'Joint\\n    Filing Agreement, dated as of May 30, 2023, by and among the Reporting Persons.', 'CUSIP\\n    89416R101', 'SCHEDULE\\n    13D', 'Page\\n    8 of 8', 'SIGNATURE', 'After\\nreasonable inquiry and to the best of my knowledge and belief, I certify that the information set forth in this statement is true, complete\\nand correct.', 'Date:\\nJuly 12, 2023', 'Jeffery\\n    Rizzo', '/s/\\n    Jeffrey Rizzo', 'Jeffrey\\n    Rizzo', 'Titan\\n    Holdings 2, LLC', '/s/\\n    Jeffrey Rizzo', 'By:', 'Jeffrey Rizzo, Manager', 'Marilyn\\n    Rizzo Trust Dated April 23, 2010, as amended', '/s/\\n    Marilyn Rizzo', 'By:', 'Marilyn Rizzo, Trustee', 'Marilyn\\n    Rizzo', '/s/\\n    Marilyn Rizzo', 'Marilyn\\n    Rizzo']], 'xpaths': [['/html/body/document/type', '/html/body/document/type/sequence', '/html/body/document/type/sequence/filename', '/html/body/document/type/sequence/filename/text/p[4]/font/b', '/html/body/document/type/sequence/filename/text/p[5]/font/b', '/html/body/document/type/sequence/filename/text/p[6]/font/b', '/html/body/document/type/sequence/filename/text/p[8]/font/b', '/html/body/document/type/sequence/filename/text/p[10]/font', '/html/body/document/type/sequence/filename/text/p[11]/font', '/html/body/document/type/sequence/filename/text/table[1]/tbody/tr[1]/td/font/b', '/html/body/document/type/sequence/filename/text/table[1]/tbody/tr[2]/td/font', '/html/body/document/type/sequence/filename/text/table[2]/tbody/tr[1]/td/font/b', '/html/body/document/type/sequence/filename/text/table[2]/tbody/tr[2]/td/font', '/html/body/document/type/sequence/filename/text/table[3]/tbody/tr[1]/td/font/b', '/html/body/document/type/sequence/filename/text/table[3]/tbody/tr[2]/td/font', '/html/body/document/type/sequence/filename/text/table[4]/tbody/tr[1]/td/p[1]/font/b', '/html/body/document/type/sequence/filename/text/table[4]/tbody/tr[1]/td/p[2]/font/b', '/html/body/document/type/sequence/filename/text/table[4]/tbody/tr[1]/td/p[3]/font/b', '/html/body/document/type/sequence/filename/text/table[4]/tbody/tr[1]/td/p[4]/font/b', '/html/body/document/type/sequence/filename/text/table[4]/tbody/tr[2]/td/font', '/html/body/document/type/sequence/filename/text/table[4]/tbody/tr[4]/td/font/b', '/html/body/document/type/sequence/filename/text/table[4]/tbody/tr[5]/td/font', '/html/body/document/type/sequence/filename/text/p[17]/font', '/html/body/document/type/sequence/filename/text/p[19]/font', '/html/body/document/type/sequence/filename/text/table[5]/tbody/tr/td[1]/font/b', '/html/body/document/type/sequence/filename/text/table[5]/tbody/tr/td[2]/font/b', '/html/body/document/type/sequence/filename/text/table[5]/tbody/tr/td[3]/font/b', '/html/body/document/type/sequence/filename/text/table[6]/tbody/tr[1]/td[1]/font/b', '/html/body/document/type/sequence/filename/text/table[6]/tbody/tr[1]/td[2]/font', '/html/body/document/type/sequence/filename/text/table[6]/tbody/tr[2]/td/font', '/html/body/document/type/sequence/filename/text/table[6]/tbody/tr[3]/td[1]/font/b', '/html/body/document/type/sequence/filename/text/table[6]/tbody/tr[3]/td[2]/font', '/html/body/document/type/sequence/filename/text/table[6]/tbody/tr[4]/td/p[1]/font[1]', '/html/body/document/type/sequence/filename/text/table[6]/tbody/tr[4]/td/p[1]/font[2]', '/html/body/document/type/sequence/filename/text/table[6]/tbody/tr[4]/td/p[2]/font[1]', '/html/body/document/type/sequence/filename/text/table[6]/tbody/tr[4]/td/p[2]/font[2]', '/html/body/document/type/sequence/filename/text/table[6]/tbody/tr[5]/td[1]/font/b', '/html/body/document/type/sequence/filename/text/table[6]/tbody/tr[5]/td[2]/font', '/html/body/document/type/sequence/filename/text/table[6]/tbody/tr[7]/td[1]/font/b', '/html/body/document/type/sequence/filename/text/table[6]/tbody/tr[7]/td[2]/font', '/html/body/document/type/sequence/filename/text/table[6]/tbody/tr[8]/td/font', '/html/body/document/type/sequence/filename/text/table[6]/tbody/tr[9]/td[1]/font/b', '/html/body/document/type/sequence/filename/text/table[6]/tbody/tr[9]/td[2]/font', '/html/body/document/type/sequence/filename/text/table[6]/tbody/tr[10]/td/font', '/html/body/document/type/sequence/filename/text/table[6]/tbody/tr[11]/td[1]/font/b', '/html/body/document/type/sequence/filename/text/table[6]/tbody/tr[11]/td[2]/font', '/html/body/document/type/sequence/filename/text/table[6]/tbody/tr[12]/td/font', '/html/body/document/type/sequence/filename/text/table[7]/tbody/tr[1]/td[1]/p[1]/font', '/html/body/document/type/sequence/filename/text/table[7]/tbody/tr[1]/td[1]/p[2]/font', '/html/body/document/type/sequence/filename/text/table[7]/tbody/tr[1]/td[1]/p[3]/font', '/html/body/document/type/sequence/filename/text/table[7]/tbody/tr[1]/td[1]/p[4]/font', '/html/body/document/type/sequence/filename/text/table[7]/tbody/tr[1]/td[1]/p[5]/font', '/html/body/document/type/sequence/filename/text/table[7]/tbody/tr[1]/td[1]/p[6]/font', '/html/body/document/type/sequence/filename/text/table[7]/tbody/tr[1]/td[2]/font/b', '/html/body/document/type/sequence/filename/text/table[7]/tbody/tr[1]/td[3]/font', '/html/body/document/type/sequence/filename/text/table[7]/tbody/tr[2]/td/font', '/html/body/document/type/sequence/filename/text/table[7]/tbody/tr[3]/td[1]/font/b', '/html/body/document/type/sequence/filename/text/table[7]/tbody/tr[3]/td[2]/font', '/html/body/document/type/sequence/filename/text/table[7]/tbody/tr[4]/td/font', '/html/body/document/type/sequence/filename/text/table[7]/tbody/tr[5]/td[1]/font/b', '/html/body/document/type/sequence/filename/text/table[7]/tbody/tr[5]/td[2]/font', '/html/body/document/type/sequence/filename/text/table[7]/tbody/tr[6]/td/font', '/html/body/document/type/sequence/filename/text/table[7]/tbody/tr[7]/td[1]/font/b', '/html/body/document/type/sequence/filename/text/table[7]/tbody/tr[7]/td[2]/font', '/html/body/document/type/sequence/filename/text/table[7]/tbody/tr[8]/td/font', '/html/body/document/type/sequence/filename/text/table[8]/tbody/tr[1]/td[1]/font/b', '/html/body/document/type/sequence/filename/text/table[8]/tbody/tr[1]/td[2]/font', '/html/body/document/type/sequence/filename/text/table[8]/tbody/tr[2]/td/font', '/html/body/document/type/sequence/filename/text/table[8]/tbody/tr[3]/td[1]/font/b', '/html/body/document/type/sequence/filename/text/table[8]/tbody/tr[3]/td[2]/font', '/html/body/document/type/sequence/filename/text/table[8]/tbody/tr[4]/td/font', '/html/body/document/type/sequence/filename/text/table[8]/tbody/tr[5]/td[1]/font/b', '/html/body/document/type/sequence/filename/text/table[8]/tbody/tr[5]/td[2]/font', '/html/body/document/type/sequence/filename/text/table[8]/tbody/tr[6]/td/font', '/html/body/document/type/sequence/filename/text/table[8]/tbody/tr[7]/td[1]/font/b', '/html/body/document/type/sequence/filename/text/table[8]/tbody/tr[7]/td[2]/font', '/html/body/document/type/sequence/filename/text/table[8]/tbody/tr[8]/td/font', '/html/body/document/type/sequence/filename/text/table[9]/tbody/tr/td[1]/font/b', '/html/body/document/type/sequence/filename/text/table[9]/tbody/tr/td[2]/font/b', '/html/body/document/type/sequence/filename/text/table[9]/tbody/tr/td[3]/font/b', '/html/body/document/type/sequence/filename/text/table[10]/tbody/tr[1]/td[1]/font/b', '/html/body/document/type/sequence/filename/text/table[10]/tbody/tr[1]/td[2]/font', '/html/body/document/type/sequence/filename/text/table[10]/tbody/tr[2]/td/font', '/html/body/document/type/sequence/filename/text/table[10]/tbody/tr[3]/td[1]/font/b', '/html/body/document/type/sequence/filename/text/table[10]/tbody/tr[3]/td[2]/font', '/html/body/document/type/sequence/filename/text/table[10]/tbody/tr[4]/td/p[1]/font', '/html/body/document/type/sequence/filename/text/table[10]/tbody/tr[4]/td/p[2]/font[1]', '/html/body/document/type/sequence/filename/text/table[10]/tbody/tr[4]/td/p[2]/font[2]', '/html/body/document/type/sequence/filename/text/table[10]/tbody/tr[5]/td[1]/font/b', '/html/body/document/type/sequence/filename/text/table[10]/tbody/tr[5]/td[2]/font', '/html/body/document/type/sequence/filename/text/table[10]/tbody/tr[7]/td[1]/font/b', '/html/body/document/type/sequence/filename/text/table[10]/tbody/tr[7]/td[2]/font', '/html/body/document/type/sequence/filename/text/table[10]/tbody/tr[8]/td/font', '/html/body/document/type/sequence/filename/text/table[10]/tbody/tr[9]/td[1]/font/b', '/html/body/document/type/sequence/filename/text/table[10]/tbody/tr[9]/td[2]/font', '/html/body/document/type/sequence/filename/text/table[10]/tbody/tr[10]/td/font', '/html/body/document/type/sequence/filename/text/table[10]/tbody/tr[11]/td[1]/font/b', '/html/body/document/type/sequence/filename/text/table[10]/tbody/tr[11]/td[2]/font', '/html/body/document/type/sequence/filename/text/table[10]/tbody/tr[12]/td/font', '/html/body/document/type/sequence/filename/text/table[11]/tbody/tr[1]/td[1]/p[1]/font', '/html/body/document/type/sequence/filename/text/table[11]/tbody/tr[1]/td[1]/p[2]/font', '/html/body/document/type/sequence/filename/text/table[11]/tbody/tr[1]/td[1]/p[3]/font', '/html/body/document/type/sequence/filename/text/table[11]/tbody/tr[1]/td[1]/p[4]/font', '/html/body/document/type/sequence/filename/text/table[11]/tbody/tr[1]/td[1]/p[5]/font', '/html/body/document/type/sequence/filename/text/table[11]/tbody/tr[1]/td[1]/p[6]/font', '/html/body/document/type/sequence/filename/text/table[11]/tbody/tr[1]/td[2]/font/b', '/html/body/document/type/sequence/filename/text/table[11]/tbody/tr[1]/td[3]/font', '/html/body/document/type/sequence/filename/text/table[11]/tbody/tr[2]/td/font', '/html/body/document/type/sequence/filename/text/table[11]/tbody/tr[3]/td[1]/font/b', '/html/body/document/type/sequence/filename/text/table[11]/tbody/tr[3]/td[2]/font', '/html/body/document/type/sequence/filename/text/table[11]/tbody/tr[4]/td/font', '/html/body/document/type/sequence/filename/text/table[11]/tbody/tr[5]/td[1]/font/b', '/html/body/document/type/sequence/filename/text/table[11]/tbody/tr[5]/td[2]/font', '/html/body/document/type/sequence/filename/text/table[11]/tbody/tr[6]/td/font', '/html/body/document/type/sequence/filename/text/table[11]/tbody/tr[7]/td[1]/font/b', '/html/body/document/type/sequence/filename/text/table[11]/tbody/tr[7]/td[2]/font', '/html/body/document/type/sequence/filename/text/table[11]/tbody/tr[8]/td/font', '/html/body/document/type/sequence/filename/text/table[12]/tbody/tr[1]/td[1]/font/b', '/html/body/document/type/sequence/filename/text/table[12]/tbody/tr[1]/td[2]/font', '/html/body/document/type/sequence/filename/text/table[12]/tbody/tr[2]/td/font', '/html/body/document/type/sequence/filename/text/table[12]/tbody/tr[3]/td[1]/font/b', '/html/body/document/type/sequence/filename/text/table[12]/tbody/tr[3]/td[2]/font', '/html/body/document/type/sequence/filename/text/table[12]/tbody/tr[4]/td/font', '/html/body/document/type/sequence/filename/text/table[12]/tbody/tr[5]/td[1]/font/b', '/html/body/document/type/sequence/filename/text/table[12]/tbody/tr[5]/td[2]/font', '/html/body/document/type/sequence/filename/text/table[12]/tbody/tr[6]/td/font', '/html/body/document/type/sequence/filename/text/table[12]/tbody/tr[7]/td[1]/font/b', '/html/body/document/type/sequence/filename/text/table[12]/tbody/tr[7]/td[2]/font', '/html/body/document/type/sequence/filename/text/table[12]/tbody/tr[8]/td/font', '/html/body/document/type/sequence/filename/text/table[13]/tbody/tr/td[1]/font/b', '/html/body/document/type/sequence/filename/text/table[13]/tbody/tr/td[2]/font/b', '/html/body/document/type/sequence/filename/text/table[13]/tbody/tr/td[3]/font/b', '/html/body/document/type/sequence/filename/text/table[14]/tbody/tr[1]/td[1]/font/b', '/html/body/document/type/sequence/filename/text/table[14]/tbody/tr[1]/td[2]/font', '/html/body/document/type/sequence/filename/text/table[14]/tbody/tr[2]/td/font', '/html/body/document/type/sequence/filename/text/table[14]/tbody/tr[3]/td[1]/font/b', '/html/body/document/type/sequence/filename/text/table[14]/tbody/tr[3]/td[2]/font', '/html/body/document/type/sequence/filename/text/table[14]/tbody/tr[4]/td/p[1]/font[1]', '/html/body/document/type/sequence/filename/text/table[14]/tbody/tr[4]/td/p[1]/font[2]', '/html/body/document/type/sequence/filename/text/table[14]/tbody/tr[4]/td/p[2]/font[1]', '/html/body/document/type/sequence/filename/text/table[14]/tbody/tr[4]/td/p[2]/font[2]', '/html/body/document/type/sequence/filename/text/table[14]/tbody/tr[5]/td[1]/font/b', '/html/body/document/type/sequence/filename/text/table[14]/tbody/tr[5]/td[2]/font', '/html/body/document/type/sequence/filename/text/table[14]/tbody/tr[7]/td[1]/font/b', '/html/body/document/type/sequence/filename/text/table[14]/tbody/tr[7]/td[2]/font', '/html/body/document/type/sequence/filename/text/table[14]/tbody/tr[8]/td/font', '/html/body/document/type/sequence/filename/text/table[14]/tbody/tr[9]/td[1]/font/b', '/html/body/document/type/sequence/filename/text/table[14]/tbody/tr[9]/td[2]/font', '/html/body/document/type/sequence/filename/text/table[14]/tbody/tr[10]/td/font', '/html/body/document/type/sequence/filename/text/table[14]/tbody/tr[11]/td[1]/font/b', '/html/body/document/type/sequence/filename/text/table[14]/tbody/tr[11]/td[2]/font', '/html/body/document/type/sequence/filename/text/table[14]/tbody/tr[12]/td/font', '/html/body/document/type/sequence/filename/text/table[15]/tbody/tr[1]/td[1]/p[1]/font', '/html/body/document/type/sequence/filename/text/table[15]/tbody/tr[1]/td[1]/p[2]/font', '/html/body/document/type/sequence/filename/text/table[15]/tbody/tr[1]/td[1]/p[3]/font', '/html/body/document/type/sequence/filename/text/table[15]/tbody/tr[1]/td[1]/p[4]/font', '/html/body/document/type/sequence/filename/text/table[15]/tbody/tr[1]/td[1]/p[5]/font', '/html/body/document/type/sequence/filename/text/table[15]/tbody/tr[1]/td[1]/p[6]/font', '/html/body/document/type/sequence/filename/text/table[15]/tbody/tr[1]/td[2]/font/b', '/html/body/document/type/sequence/filename/text/table[15]/tbody/tr[1]/td[3]/font', '/html/body/document/type/sequence/filename/text/table[15]/tbody/tr[2]/td/font', '/html/body/document/type/sequence/filename/text/table[15]/tbody/tr[3]/td[1]/font/b', '/html/body/document/type/sequence/filename/text/table[15]/tbody/tr[3]/td[2]/font', '/html/body/document/type/sequence/filename/text/table[15]/tbody/tr[4]/td/font', '/html/body/document/type/sequence/filename/text/table[15]/tbody/tr[5]/td[1]/font/b', '/html/body/document/type/sequence/filename/text/table[15]/tbody/tr[5]/td[2]/font', '/html/body/document/type/sequence/filename/text/table[15]/tbody/tr[6]/td/font', '/html/body/document/type/sequence/filename/text/table[15]/tbody/tr[7]/td[1]/font/b', '/html/body/document/type/sequence/filename/text/table[15]/tbody/tr[7]/td[2]/font', '/html/body/document/type/sequence/filename/text/table[15]/tbody/tr[8]/td/font', '/html/body/document/type/sequence/filename/text/table[16]/tbody/tr[1]/td[1]/font/b', '/html/body/document/type/sequence/filename/text/table[16]/tbody/tr[1]/td[2]/font', '/html/body/document/type/sequence/filename/text/table[16]/tbody/tr[2]/td/font', '/html/body/document/type/sequence/filename/text/table[16]/tbody/tr[3]/td[1]/font/b', '/html/body/document/type/sequence/filename/text/table[16]/tbody/tr[3]/td[2]/font', '/html/body/document/type/sequence/filename/text/table[16]/tbody/tr[4]/td/font', '/html/body/document/type/sequence/filename/text/table[16]/tbody/tr[5]/td[1]/font/b', '/html/body/document/type/sequence/filename/text/table[16]/tbody/tr[5]/td[2]/font', '/html/body/document/type/sequence/filename/text/table[16]/tbody/tr[6]/td/font', '/html/body/document/type/sequence/filename/text/table[16]/tbody/tr[7]/td[1]/font/b', '/html/body/document/type/sequence/filename/text/table[16]/tbody/tr[7]/td[2]/font', '/html/body/document/type/sequence/filename/text/table[16]/tbody/tr[8]/td/font', '/html/body/document/type/sequence/filename/text/table[17]/tbody/tr/td[1]/font/b', '/html/body/document/type/sequence/filename/text/table[17]/tbody/tr/td[2]/font/b', '/html/body/document/type/sequence/filename/text/table[17]/tbody/tr/td[3]/font/b', '/html/body/document/type/sequence/filename/text/table[18]/tbody/tr[1]/td[1]/font/b', '/html/body/document/type/sequence/filename/text/table[18]/tbody/tr[1]/td[2]/font', '/html/body/document/type/sequence/filename/text/table[18]/tbody/tr[2]/td/font', '/html/body/document/type/sequence/filename/text/table[18]/tbody/tr[3]/td[1]/font/b', '/html/body/document/type/sequence/filename/text/table[18]/tbody/tr[3]/td[2]/font', '/html/body/document/type/sequence/filename/text/table[18]/tbody/tr[4]/td/p[1]/font[1]', '/html/body/document/type/sequence/filename/text/table[18]/tbody/tr[4]/td/p[1]/font[2]', '/html/body/document/type/sequence/filename/text/table[18]/tbody/tr[4]/td/p[2]/font[1]', '/html/body/document/type/sequence/filename/text/table[18]/tbody/tr[4]/td/p[2]/font[2]', '/html/body/document/type/sequence/filename/text/table[18]/tbody/tr[5]/td[1]/font/b', '/html/body/document/type/sequence/filename/text/table[18]/tbody/tr[5]/td[2]/font', '/html/body/document/type/sequence/filename/text/table[18]/tbody/tr[7]/td[1]/font/b', '/html/body/document/type/sequence/filename/text/table[18]/tbody/tr[7]/td[2]/font', '/html/body/document/type/sequence/filename/text/table[18]/tbody/tr[8]/td/font', '/html/body/document/type/sequence/filename/text/table[18]/tbody/tr[9]/td[1]/font/b', '/html/body/document/type/sequence/filename/text/table[18]/tbody/tr[9]/td[2]/font', '/html/body/document/type/sequence/filename/text/table[18]/tbody/tr[10]/td/font', '/html/body/document/type/sequence/filename/text/table[18]/tbody/tr[11]/td[1]/font/b', '/html/body/document/type/sequence/filename/text/table[18]/tbody/tr[11]/td[2]/font', '/html/body/document/type/sequence/filename/text/table[18]/tbody/tr[12]/td/font', '/html/body/document/type/sequence/filename/text/table[19]/tbody/tr[1]/td[1]/p[1]/font', '/html/body/document/type/sequence/filename/text/table[19]/tbody/tr[1]/td[1]/p[2]/font', '/html/body/document/type/sequence/filename/text/table[19]/tbody/tr[1]/td[1]/p[3]/font', '/html/body/document/type/sequence/filename/text/table[19]/tbody/tr[1]/td[1]/p[4]/font', '/html/body/document/type/sequence/filename/text/table[19]/tbody/tr[1]/td[1]/p[5]/font', '/html/body/document/type/sequence/filename/text/table[19]/tbody/tr[1]/td[1]/p[6]/font', '/html/body/document/type/sequence/filename/text/table[19]/tbody/tr[1]/td[2]/font/b', '/html/body/document/type/sequence/filename/text/table[19]/tbody/tr[1]/td[3]/p[1]/font', '/html/body/document/type/sequence/filename/text/table[19]/tbody/tr[3]/td[1]/font/b', '/html/body/document/type/sequence/filename/text/table[19]/tbody/tr[3]/td[2]/font', '/html/body/document/type/sequence/filename/text/table[19]/tbody/tr[4]/td/font', '/html/body/document/type/sequence/filename/text/table[19]/tbody/tr[5]/td[1]/font/b', '/html/body/document/type/sequence/filename/text/table[19]/tbody/tr[5]/td[2]/font', '/html/body/document/type/sequence/filename/text/table[19]/tbody/tr[6]/td/font', '/html/body/document/type/sequence/filename/text/table[19]/tbody/tr[7]/td[1]/font/b', '/html/body/document/type/sequence/filename/text/table[19]/tbody/tr[7]/td[2]/font', '/html/body/document/type/sequence/filename/text/table[19]/tbody/tr[8]/td/font', '/html/body/document/type/sequence/filename/text/table[20]/tbody/tr[1]/td[1]/font/b', '/html/body/document/type/sequence/filename/text/table[20]/tbody/tr[1]/td[2]/font', '/html/body/document/type/sequence/filename/text/table[20]/tbody/tr[2]/td/font', '/html/body/document/type/sequence/filename/text/table[20]/tbody/tr[3]/td[1]/font/b', '/html/body/document/type/sequence/filename/text/table[20]/tbody/tr[3]/td[2]/font', '/html/body/document/type/sequence/filename/text/table[20]/tbody/tr[4]/td/font', '/html/body/document/type/sequence/filename/text/table[20]/tbody/tr[5]/td[1]/font/b', '/html/body/document/type/sequence/filename/text/table[20]/tbody/tr[5]/td[2]/font', '/html/body/document/type/sequence/filename/text/table[20]/tbody/tr[6]/td/font', '/html/body/document/type/sequence/filename/text/table[20]/tbody/tr[7]/td[1]/font/b', '/html/body/document/type/sequence/filename/text/table[20]/tbody/tr[7]/td[2]/font', '/html/body/document/type/sequence/filename/text/table[20]/tbody/tr[8]/td/font', '/html/body/document/type/sequence/filename/text/table[21]/tbody/tr/td[1]/font/b', '/html/body/document/type/sequence/filename/text/table[21]/tbody/tr/td[2]/font/b', '/html/body/document/type/sequence/filename/text/table[21]/tbody/tr/td[3]/font/b', '/html/body/document/type/sequence/filename/text/table[22]/tbody/tr/td[1]/font/b', '/html/body/document/type/sequence/filename/text/table[22]/tbody/tr/td[2]/font/b', '/html/body/document/type/sequence/filename/text/p[52]/font', '/html/body/document/type/sequence/filename/text/table[23]/tbody/tr/td[1]/font/b', '/html/body/document/type/sequence/filename/text/table[23]/tbody/tr/td[2]/font/b', '/html/body/document/type/sequence/filename/text/p[55]/font', '/html/body/document/type/sequence/filename/text/p[57]/font', '/html/body/document/type/sequence/filename/text/p[59]/font', '/html/body/document/type/sequence/filename/text/p[61]/font', '/html/body/document/type/sequence/filename/text/p[63]/font', '/html/body/document/type/sequence/filename/text/p[65]/font', '/html/body/document/type/sequence/filename/text/table[24]/tbody/tr/td[1]/font/b', '/html/body/document/type/sequence/filename/text/table[24]/tbody/tr/td[2]/font/b', '/html/body/document/type/sequence/filename/text/p[68]/font', '/html/body/document/type/sequence/filename/text/table[25]/tbody/tr/td[1]/font/b', '/html/body/document/type/sequence/filename/text/table[25]/tbody/tr/td[2]/font/b', '/html/body/document/type/sequence/filename/text/p[71]/font', '/html/body/document/type/sequence/filename/text/p[73]/font', '/html/body/document/type/sequence/filename/text/table[26]/tbody/tr/td[1]/font/b', '/html/body/document/type/sequence/filename/text/table[26]/tbody/tr/td[2]/font/b', '/html/body/document/type/sequence/filename/text/p[76]/font', '/html/body/document/type/sequence/filename/text/table[27]/tbody/tr/td[1]/font/b', '/html/body/document/type/sequence/filename/text/table[27]/tbody/tr/td[2]/font/b', '/html/body/document/type/sequence/filename/text/table[27]/tbody/tr/td[3]/font/b', '/html/body/document/type/sequence/filename/text/p[81]/font', '/html/body/document/type/sequence/filename/text/p[83]/font', '/html/body/document/type/sequence/filename/text/p[85]/font', '/html/body/document/type/sequence/filename/text/p[87]/font', '/html/body/document/type/sequence/filename/text/p[89]/font', '/html/body/document/type/sequence/filename/text/p[91]/font', '/html/body/document/type/sequence/filename/text/p[93]/font', '/html/body/document/type/sequence/filename/text/p[95]/font', '/html/body/document/type/sequence/filename/text/table[28]/tbody/tr/td[1]/font/b', '/html/body/document/type/sequence/filename/text/table[28]/tbody/tr/td[2]/font/b', '/html/body/document/type/sequence/filename/text/p[98]/font', '/html/body/document/type/sequence/filename/text/p[100]/font', '/html/body/document/type/sequence/filename/text/table[29]/tbody/tr/td[1]/font/b', '/html/body/document/type/sequence/filename/text/table[29]/tbody/tr/td[2]/font/b', '/html/body/document/type/sequence/filename/text/table[30]/tbody/tr[1]/td[1]/font', '/html/body/document/type/sequence/filename/text/table[30]/tbody/tr[1]/td[3]/font', '/html/body/document/type/sequence/filename/text/table[30]/tbody/tr[2]/td[1]/font/u', '/html/body/document/type/sequence/filename/text/table[30]/tbody/tr[2]/td[3]/font/a/font/u', '/html/body/document/type/sequence/filename/text/table[31]/tbody/tr/td[1]/font/b', '/html/body/document/type/sequence/filename/text/table[31]/tbody/tr/td[2]/font/b', '/html/body/document/type/sequence/filename/text/table[31]/tbody/tr/td[3]/font/b', '/html/body/document/type/sequence/filename/text/p[107]/font/b', '/html/body/document/type/sequence/filename/text/p[109]/font', '/html/body/document/type/sequence/filename/text/p[111]/font', '/html/body/document/type/sequence/filename/text/table[32]/tbody/tr[1]/td[3]/font/b', '/html/body/document/type/sequence/filename/text/table[32]/tbody/tr[3]/td[3]/font/i', '/html/body/document/type/sequence/filename/text/table[32]/tbody/tr[4]/td[3]/font', '/html/body/document/type/sequence/filename/text/table[32]/tbody/tr[6]/td[3]/font/b', '/html/body/document/type/sequence/filename/text/table[32]/tbody/tr[8]/td[3]/font/i', '/html/body/document/type/sequence/filename/text/table[32]/tbody/tr[9]/td[2]/font', '/html/body/document/type/sequence/filename/text/table[32]/tbody/tr[9]/td[3]/font', '/html/body/document/type/sequence/filename/text/table[32]/tbody/tr[11]/td[3]/font/b', '/html/body/document/type/sequence/filename/text/table[32]/tbody/tr[13]/td[3]/font/i', '/html/body/document/type/sequence/filename/text/table[32]/tbody/tr[14]/td[2]/font', '/html/body/document/type/sequence/filename/text/table[32]/tbody/tr[14]/td[3]/font', '/html/body/document/type/sequence/filename/text/table[32]/tbody/tr[16]/td[3]/font/b', '/html/body/document/type/sequence/filename/text/table[32]/tbody/tr[18]/td[3]/font/i', '/html/body/document/type/sequence/filename/text/table[32]/tbody/tr[19]/td[3]/font']]}]\n",
      "[{'input_ids': tensor([    0,  3632,   508,   495,   134,  3899,  3866,  1558,   417,     4,\n",
      "        40202,  4154, 33957, 50118,  4014, 27704, 21536,  2492, 26824, 50118,\n",
      "         5945, 10649,  3764, 27917, 31299, 41336, 22247,     6, 50118,   495,\n",
      "            4,   347,     4, 21000,  3414,   104,  3764,  1691, 39477, 50118,\n",
      "         1558,   495, 17245, 50118,   627,  3484,  3080,  1783,     9, 28955,\n",
      "         1640, 10127, 40720, 50118,  3084,     4,  4839, 24523,  1864,   118,\n",
      "         1864,     6, 50118,  1437,  1437,  1437,   603,     4,  1640, 31723,\n",
      "        50118,  1437,  1437,  1437,     9, 19285,  7414,    43, 40437, 50118,\n",
      "         1437,  1437,  1437,  3412,     6,  2242,   923,    68,   288,     4,\n",
      "        27623,   228,   458,  1640, 46525, 50118,  1437,  1437,  1437,     9,\n",
      "         4210,     9,  3484,    43,  5046, 30950,   500, 12636,  1640,   347,\n",
      "         3048,  3808, 50118,  1437,  1437,  1437, 12270,    43, 27845, 50118,\n",
      "         1437,  1437,  1437,  1437,  1437,  1437,  1437,  1437,  1437,  1437,\n",
      "         1437,  1437,  1437,  1437,  1437,  1437,  1437,  1437,  1437,  1437,\n",
      "         1437,  1437,  1437,  1437,  1437,  1437,  1437,  1437,  1437,  1437,\n",
      "         1437,  1437,  1437,  1437,  1437,  1437,  1437,  1437,  1437,  1437,\n",
      "         1437,  1437,  1437,   248, 16717,  2553, 40197, 50118,  1437,  1437,\n",
      "         1437,  4326,   852,     6, 13810, 36300, 36128,     6, 50118,  1437,\n",
      "         1437,  1437,  1184,  3337, 25155,  1640, 27153,    43, 50118,  1437,\n",
      "         1437,  1437,   231,  4708,    12,  3897,   612,  1640, 31723,     6,\n",
      "        50118,  1437,  1437,  1437, 17416,     8, 32181, 12270,     9, 18404,\n",
      "        14338,  1538,     7,  1223,  6550,  1491,  6355,     8,  6076,    43,\n",
      "        10004, 50118,  1437,  1437,  1437,   753,     6,   291,  1922,  1640,\n",
      "        39525, 50118,  1437,  1437,  1437,     9, 11373,    61, 46233,   274,\n",
      "         7022,     9,    42, 19356,    43,  1106, 50118,   627,  3386,   621,\n",
      "           34,  1433,  1658,    10,   445,    15, 22557,   508,   534,     7,\n",
      "          266,     5,  3857,    14,    16,     5,  2087,     9,    42, 22557,\n",
      "          508,   495,     6, 50118,   463,    16,  3386,    42,  3078,   142,\n",
      "            9, 15452,     4,  1558,   417,    12,   134,  1640,   242,   238,\n",
      "        15452,     4,  1558,   417,    12,   134,  1640,   506,    43,    50,\n",
      "        15452,     4,  1558,   417,    12,   134,  1640,   571,   238,  1649,\n",
      "            5,   511,  2233, 42699, 16948,     4,   133, 50118, 31480,  1552,\n",
      "           15,     5, 11059,     9,    42,  1719,  1842,  5658,    45,    28,\n",
      "         7661,     7,    28,    44,    48,   506,  6691,    17,    46,    13,\n",
      "            5,  3508,     9,  7162,   504, 50118,  1116,     5,  3484,  3080,\n",
      "         1783,     9, 28955,    36,    17,    48, 26880,    17,    46,    43,\n",
      "           50,  3680,  2087,     7,     5, 13189,     9,    14,  2810,     9,\n",
      "            5,  1783,    53,  5658, 50118,  1610,  2087,     7,    70,    97,\n",
      "         7668,     9,     5,  1783,     4,   635,     6,   192,     5,  2775,\n",
      "            4,   347,  3048,  3808, 50118,  1437,  1437,  1437,   290,  6405,\n",
      "         1549,   500, 12636,   104,  3764,  1691, 39477, 50118,  1437,  1437,\n",
      "         1437,   508,   495, 21823, 50118,  1437,  1437,  1437,   132,     9,\n",
      "          290,   134,     4, 47995, 50118,  1437,  1437,  1437,     9, 22100,\n",
      "        27061, 19663, 50118,  1437,  1437,  1437,   248,  6352,   139,   176,\n",
      "            4, 26615, 50118,  1437,  1437,  1437,     5, 39960,   877,  7803,\n",
      "          114,    10, 10153,     9,    10,   826,  1640,   102,    43, 45449,\n",
      "        16948,  1640,   428,    43, 45449, 10659,   246,     4, 33099, 50118,\n",
      "         1437,  1437,  1437,  7627,  4041,   306,     4,  7061, 50118,  1437,\n",
      "         1437,  1437,     9, 17114,  9332,   245,     4, 26615, 50118,  1437,\n",
      "         1437,  1437,   114, 15576,     9, 10661, 38673,    16, 41705, 30348,\n",
      "          257,   927,     7, 31167,   132,  1640,   417,    43,    50,   132,\n",
      "         1640,   242]), 'token_type_ids': tensor([0, 0, 0, 0, 0, 0, 0, 0, 0, 0, 0, 0, 0, 0, 0, 0, 0, 0, 0, 0, 0, 0, 0, 0,\n",
      "        0, 0, 0, 0, 0, 0, 0, 0, 0, 0, 0, 0, 0, 0, 0, 0, 0, 0, 0, 0, 0, 0, 0, 0,\n",
      "        0, 0, 0, 0, 0, 0, 0, 0, 0, 0, 0, 0, 0, 0, 0, 0, 0, 0, 0, 0, 0, 0, 0, 0,\n",
      "        0, 0, 0, 0, 0, 0, 0, 0, 0, 0, 0, 0, 0, 0, 0, 0, 0, 0, 0, 0, 0, 0, 0, 0,\n",
      "        0, 0, 0, 0, 0, 0, 0, 0, 0, 0, 0, 0, 0, 0, 0, 0, 0, 0, 0, 0, 0, 0, 0, 0,\n",
      "        0, 0, 0, 0, 0, 0, 0, 0, 0, 0, 0, 0, 0, 0, 0, 0, 0, 0, 0, 0, 0, 0, 0, 0,\n",
      "        0, 0, 0, 0, 0, 0, 0, 0, 0, 0, 0, 0, 0, 0, 0, 0, 0, 0, 0, 0, 0, 0, 0, 0,\n",
      "        0, 0, 0, 0, 0, 0, 0, 0, 0, 0, 0, 0, 0, 0, 0, 0, 0, 0, 0, 0, 0, 0, 0, 0,\n",
      "        0, 0, 0, 0, 0, 0, 0, 0, 0, 0, 0, 0, 0, 0, 0, 0, 0, 0, 0, 0, 0, 0, 0, 0,\n",
      "        0, 0, 0, 0, 0, 0, 0, 0, 0, 0, 0, 0, 0, 0, 0, 0, 0, 0, 0, 0, 0, 0, 0, 0,\n",
      "        0, 0, 0, 0, 0, 0, 0, 0, 0, 0, 0, 0, 0, 0, 0, 0, 0, 0, 0, 0, 0, 0, 0, 0,\n",
      "        0, 0, 0, 0, 0, 0, 0, 0, 0, 0, 0, 0, 0, 0, 0, 0, 0, 0, 0, 0, 0, 0, 0, 0,\n",
      "        0, 0, 0, 0, 0, 0, 0, 0, 0, 0, 0, 0, 0, 0, 0, 0, 0, 0, 0, 0, 0, 0, 0, 0,\n",
      "        0, 0, 0, 0, 0, 0, 0, 0, 0, 0, 0, 0, 0, 0, 0, 0, 0, 0, 0, 0, 0, 0, 0, 0,\n",
      "        0, 0, 0, 0, 0, 0, 0, 0, 0, 0, 0, 0, 0, 0, 0, 0, 0, 0, 0, 0, 0, 0, 0, 0,\n",
      "        0, 0, 0, 0, 0, 0, 0, 0, 0, 0, 0, 0, 0, 0, 0, 0, 0, 0, 0, 0, 0, 0, 0, 0,\n",
      "        0, 0, 0, 0, 0, 0, 0, 0, 0, 0, 0, 0, 0, 0, 0, 0, 0, 0, 0, 0, 0, 0, 0, 0,\n",
      "        0, 0, 0, 0, 0, 0, 0, 0, 0, 0, 0, 0, 0, 0, 0, 0, 0, 0, 0, 0, 0, 0, 0, 0,\n",
      "        0, 0, 0, 0, 0, 0, 0, 0, 0, 0, 0, 0, 0, 0, 0, 0, 0, 0, 0, 0, 0, 0, 0, 0,\n",
      "        0, 0, 0, 0, 0, 0, 0, 0, 0, 0, 0, 0, 0, 0, 0, 0, 0, 0, 0, 0, 0, 0, 0, 0,\n",
      "        0, 0, 0, 0, 0, 0, 0, 0, 0, 0, 0, 0, 0, 0, 0, 0, 0, 0, 0, 0, 0, 0, 0, 0,\n",
      "        0, 0, 0, 0, 0, 0, 0, 0]), 'attention_mask': tensor([1, 1, 1, 1, 1, 1, 1, 1, 1, 1, 1, 1, 1, 1, 1, 1, 1, 1, 1, 1, 1, 1, 1, 1,\n",
      "        1, 1, 1, 1, 1, 1, 1, 1, 1, 1, 1, 1, 1, 1, 1, 1, 1, 1, 1, 1, 1, 1, 1, 1,\n",
      "        1, 1, 1, 1, 1, 1, 1, 1, 1, 1, 1, 1, 1, 1, 1, 1, 1, 1, 1, 1, 1, 1, 1, 1,\n",
      "        1, 1, 1, 1, 1, 1, 1, 1, 1, 1, 1, 1, 1, 1, 1, 1, 1, 1, 1, 1, 1, 1, 1, 1,\n",
      "        1, 1, 1, 1, 1, 1, 1, 1, 1, 1, 1, 1, 1, 1, 1, 1, 1, 1, 1, 1, 1, 1, 1, 1,\n",
      "        1, 1, 1, 1, 1, 1, 1, 1, 1, 1, 1, 1, 1, 1, 1, 1, 1, 1, 1, 1, 1, 1, 1, 1,\n",
      "        1, 1, 1, 1, 1, 1, 1, 1, 1, 1, 1, 1, 1, 1, 1, 1, 1, 1, 1, 1, 1, 1, 1, 1,\n",
      "        1, 1, 1, 1, 1, 1, 1, 1, 1, 1, 1, 1, 1, 1, 1, 1, 1, 1, 1, 1, 1, 1, 1, 1,\n",
      "        1, 1, 1, 1, 1, 1, 1, 1, 1, 1, 1, 1, 1, 1, 1, 1, 1, 1, 1, 1, 1, 1, 1, 1,\n",
      "        1, 1, 1, 1, 1, 1, 1, 1, 1, 1, 1, 1, 1, 1, 1, 1, 1, 1, 1, 1, 1, 1, 1, 1,\n",
      "        1, 1, 1, 1, 1, 1, 1, 1, 1, 1, 1, 1, 1, 1, 1, 1, 1, 1, 1, 1, 1, 1, 1, 1,\n",
      "        1, 1, 1, 1, 1, 1, 1, 1, 1, 1, 1, 1, 1, 1, 1, 1, 1, 1, 1, 1, 1, 1, 1, 1,\n",
      "        1, 1, 1, 1, 1, 1, 1, 1, 1, 1, 1, 1, 1, 1, 1, 1, 1, 1, 1, 1, 1, 1, 1, 1,\n",
      "        1, 1, 1, 1, 1, 1, 1, 1, 1, 1, 1, 1, 1, 1, 1, 1, 1, 1, 1, 1, 1, 1, 1, 1,\n",
      "        1, 1, 1, 1, 1, 1, 1, 1, 1, 1, 1, 1, 1, 1, 1, 1, 1, 1, 1, 1, 1, 1, 1, 1,\n",
      "        1, 1, 1, 1, 1, 1, 1, 1, 1, 1, 1, 1, 1, 1, 1, 1, 1, 1, 1, 1, 1, 1, 1, 1,\n",
      "        1, 1, 1, 1, 1, 1, 1, 1, 1, 1, 1, 1, 1, 1, 1, 1, 1, 1, 1, 1, 1, 1, 1, 1,\n",
      "        1, 1, 1, 1, 1, 1, 1, 1, 1, 1, 1, 1, 1, 1, 1, 1, 1, 1, 1, 1, 1, 1, 1, 1,\n",
      "        1, 1, 1, 1, 1, 1, 1, 1, 1, 1, 1, 1, 1, 1, 1, 1, 1, 1, 1, 1, 1, 1, 1, 1,\n",
      "        1, 1, 1, 1, 1, 1, 1, 1, 1, 1, 1, 1, 1, 1, 1, 1, 1, 1, 1, 1, 1, 1, 1, 1,\n",
      "        1, 1, 1, 1, 1, 1, 1, 1, 1, 1, 1, 1, 1, 1, 1, 1, 1, 1, 1, 1, 1, 1, 1, 1,\n",
      "        1, 1, 1, 1, 1, 1, 1, 1]), 'offset_mapping': tensor([[ 0,  0],\n",
      "        [ 0,  2],\n",
      "        [ 2,  5],\n",
      "        ...,\n",
      "        [82, 84],\n",
      "        [84, 85],\n",
      "        [85, 86]]), 'xpath_tags_seq': tensor([[216, 216, 216,  ..., 216, 216, 216],\n",
      "        [109,  25, 215,  ..., 216, 216, 216],\n",
      "        [109,  25, 215,  ..., 216, 216, 216],\n",
      "        ...,\n",
      "        [109,  25, 215,  ..., 216, 216, 216],\n",
      "        [109,  25, 215,  ..., 216, 216, 216],\n",
      "        [109,  25, 215,  ..., 216, 216, 216]]), 'xpath_subs_seq': tensor([[1001, 1001, 1001,  ..., 1001, 1001, 1001],\n",
      "        [ 109,   25,  215,  ..., 1001, 1001, 1001],\n",
      "        [ 109,   25,  215,  ..., 1001, 1001, 1001],\n",
      "        ...,\n",
      "        [ 109,   25,  215,  ..., 1001, 1001, 1001],\n",
      "        [ 109,   25,  215,  ..., 1001, 1001, 1001],\n",
      "        [ 109,   25,  215,  ..., 1001, 1001, 1001]])}]\n",
      "**************************************************\n",
      "Running Inference Loop!\n",
      "**************************************************\n"
     ]
    },
    {
     "data": {
      "application/vnd.jupyter.widget-view+json": {
       "model_id": "11d00c956a4d4014bca1bec242e39383",
       "version_major": 2,
       "version_minor": 0
      },
      "text/plain": [
       "inference_loop:   0%|          | 0/1 [00:00<?, ?it/s]"
      ]
     },
     "metadata": {},
     "output_type": "display_data"
    },
    {
     "name": "stderr",
     "output_type": "stream",
     "text": [
      "You're using a MarkupLMTokenizerFast tokenizer. Please note that with a fast tokenizer, using the `__call__` method is faster than using a method to encode the text followed by a call to the `pad` method to get a padded encoding.\n"
     ]
    },
    {
     "name": "stdout",
     "output_type": "stream",
     "text": [
      "{'run_ablation': False, 'is_shuffle_xpath_exp': False, 'xpath_tag_pad_token': 216, 'xpath_subs_pad_token': 1001}\n"
     ]
    }
   ],
   "source": [
    "# Run inference on the file and return df of preds\n",
    "results_test_html = main(config, [test_dataset_output], model_ckpt_path=model_ckpt_path,is_train=False)"
   ]
  },
  {
   "cell_type": "code",
   "execution_count": 99,
   "metadata": {},
   "outputs": [],
   "source": [
    "df = pd.DataFrame.from_dict(results_test_html)"
   ]
  },
  {
   "cell_type": "code",
   "execution_count": 100,
   "metadata": {},
   "outputs": [
    {
     "data": {
      "text/html": [
       "<div>\n",
       "<style scoped>\n",
       "    .dataframe tbody tr th:only-of-type {\n",
       "        vertical-align: middle;\n",
       "    }\n",
       "\n",
       "    .dataframe tbody tr th {\n",
       "        vertical-align: top;\n",
       "    }\n",
       "\n",
       "    .dataframe thead th {\n",
       "        text-align: right;\n",
       "    }\n",
       "</style>\n",
       "<table border=\"1\" class=\"dataframe\">\n",
       "  <thead>\n",
       "    <tr style=\"text-align: right;\">\n",
       "      <th></th>\n",
       "      <th>nodes</th>\n",
       "      <th>preds</th>\n",
       "    </tr>\n",
       "  </thead>\n",
       "  <tbody>\n",
       "    <tr>\n",
       "      <th>0</th>\n",
       "      <td>[&lt;s&gt;, SC,  13, D, 1, form, sc, 13, d, ., htm, ...</td>\n",
       "      <td>[s_st, s_st, s_st, s_st, s_n, s_n, o, e_sst, e...</td>\n",
       "    </tr>\n",
       "  </tbody>\n",
       "</table>\n",
       "</div>"
      ],
      "text/plain": [
       "                                               nodes  \\\n",
       "0  [<s>, SC,  13, D, 1, form, sc, 13, d, ., htm, ...   \n",
       "\n",
       "                                               preds  \n",
       "0  [s_st, s_st, s_st, s_st, s_n, s_n, o, e_sst, e...  "
      ]
     },
     "execution_count": 100,
     "metadata": {},
     "output_type": "execute_result"
    }
   ],
   "source": [
    "df.head()"
   ]
  },
  {
   "cell_type": "code",
   "execution_count": 101,
   "metadata": {},
   "outputs": [
    {
     "data": {
      "text/html": [
       "<div>\n",
       "<style scoped>\n",
       "    .dataframe tbody tr th:only-of-type {\n",
       "        vertical-align: middle;\n",
       "    }\n",
       "\n",
       "    .dataframe tbody tr th {\n",
       "        vertical-align: top;\n",
       "    }\n",
       "\n",
       "    .dataframe thead th {\n",
       "        text-align: right;\n",
       "    }\n",
       "</style>\n",
       "<table border=\"1\" class=\"dataframe\">\n",
       "  <thead>\n",
       "    <tr style=\"text-align: right;\">\n",
       "      <th></th>\n",
       "      <th>nodes</th>\n",
       "      <th>preds</th>\n",
       "    </tr>\n",
       "  </thead>\n",
       "  <tbody>\n",
       "    <tr>\n",
       "      <th>0</th>\n",
       "      <td>&lt;s&gt;</td>\n",
       "      <td>s_st</td>\n",
       "    </tr>\n",
       "    <tr>\n",
       "      <th>0</th>\n",
       "      <td>SC</td>\n",
       "      <td>s_st</td>\n",
       "    </tr>\n",
       "    <tr>\n",
       "      <th>0</th>\n",
       "      <td>13</td>\n",
       "      <td>s_st</td>\n",
       "    </tr>\n",
       "    <tr>\n",
       "      <th>0</th>\n",
       "      <td>D</td>\n",
       "      <td>s_st</td>\n",
       "    </tr>\n",
       "    <tr>\n",
       "      <th>0</th>\n",
       "      <td>1</td>\n",
       "      <td>s_n</td>\n",
       "    </tr>\n",
       "  </tbody>\n",
       "</table>\n",
       "</div>"
      ],
      "text/plain": [
       "  nodes preds\n",
       "0   <s>  s_st\n",
       "0    SC  s_st\n",
       "0    13  s_st\n",
       "0     D  s_st\n",
       "0     1   s_n"
      ]
     },
     "execution_count": 101,
     "metadata": {},
     "output_type": "execute_result"
    }
   ],
   "source": [
    "df = df.explode(['nodes','preds'])\n",
    "df.head()"
   ]
  },
  {
   "cell_type": "code",
   "execution_count": null,
   "metadata": {},
   "outputs": [],
   "source": []
  },
  {
   "cell_type": "code",
   "execution_count": null,
   "metadata": {},
   "outputs": [],
   "source": []
  },
  {
   "cell_type": "code",
   "execution_count": null,
   "metadata": {},
   "outputs": [],
   "source": []
  },
  {
   "cell_type": "code",
   "execution_count": null,
   "metadata": {},
   "outputs": [],
   "source": []
  }
 ],
 "metadata": {
  "colab": {
   "provenance": []
  },
  "kernelspec": {
   "display_name": "Python 3 (ipykernel)",
   "language": "python",
   "name": "python3"
  },
  "language_info": {
   "codemirror_mode": {
    "name": "ipython",
    "version": 3
   },
   "file_extension": ".py",
   "mimetype": "text/x-python",
   "name": "python",
   "nbconvert_exporter": "python",
   "pygments_lexer": "ipython3",
   "version": "3.8.16"
  },
  "widgets": {
   "application/vnd.jupyter.widget-state+json": {
    "09500e44e8424bda9c121da49ebeb1df": {
     "model_module": "@jupyter-widgets/controls",
     "model_module_version": "1.5.0",
     "model_name": "DescriptionStyleModel",
     "state": {
      "_model_module": "@jupyter-widgets/controls",
      "_model_module_version": "1.5.0",
      "_model_name": "DescriptionStyleModel",
      "_view_count": null,
      "_view_module": "@jupyter-widgets/base",
      "_view_module_version": "1.2.0",
      "_view_name": "StyleView",
      "description_width": ""
     }
    },
    "0ee906c2608a4712bc63eda81b172809": {
     "model_module": "@jupyter-widgets/base",
     "model_module_version": "1.2.0",
     "model_name": "LayoutModel",
     "state": {
      "_model_module": "@jupyter-widgets/base",
      "_model_module_version": "1.2.0",
      "_model_name": "LayoutModel",
      "_view_count": null,
      "_view_module": "@jupyter-widgets/base",
      "_view_module_version": "1.2.0",
      "_view_name": "LayoutView",
      "align_content": null,
      "align_items": null,
      "align_self": null,
      "border": null,
      "bottom": null,
      "display": null,
      "flex": null,
      "flex_flow": null,
      "grid_area": null,
      "grid_auto_columns": null,
      "grid_auto_flow": null,
      "grid_auto_rows": null,
      "grid_column": null,
      "grid_gap": null,
      "grid_row": null,
      "grid_template_areas": null,
      "grid_template_columns": null,
      "grid_template_rows": null,
      "height": null,
      "justify_content": null,
      "justify_items": null,
      "left": null,
      "margin": null,
      "max_height": null,
      "max_width": null,
      "min_height": null,
      "min_width": null,
      "object_fit": null,
      "object_position": null,
      "order": null,
      "overflow": null,
      "overflow_x": null,
      "overflow_y": null,
      "padding": null,
      "right": null,
      "top": null,
      "visibility": null,
      "width": null
     }
    },
    "19749a6a48cc4a1d91abff0fe43df1b6": {
     "model_module": "@jupyter-widgets/controls",
     "model_module_version": "1.5.0",
     "model_name": "ProgressStyleModel",
     "state": {
      "_model_module": "@jupyter-widgets/controls",
      "_model_module_version": "1.5.0",
      "_model_name": "ProgressStyleModel",
      "_view_count": null,
      "_view_module": "@jupyter-widgets/base",
      "_view_module_version": "1.2.0",
      "_view_name": "StyleView",
      "bar_color": null,
      "description_width": ""
     }
    },
    "4fde29a12a8743d99293170cf49671ba": {
     "model_module": "@jupyter-widgets/controls",
     "model_module_version": "1.5.0",
     "model_name": "FloatProgressModel",
     "state": {
      "_dom_classes": [],
      "_model_module": "@jupyter-widgets/controls",
      "_model_module_version": "1.5.0",
      "_model_name": "FloatProgressModel",
      "_view_count": null,
      "_view_module": "@jupyter-widgets/controls",
      "_view_module_version": "1.5.0",
      "_view_name": "ProgressView",
      "bar_style": "danger",
      "description": "",
      "description_tooltip": null,
      "layout": "IPY_MODEL_eefd6b2dbaec4c978ce6d5b81bb91d0c",
      "max": 225,
      "min": 0,
      "orientation": "horizontal",
      "style": "IPY_MODEL_19749a6a48cc4a1d91abff0fe43df1b6",
      "value": 0
     }
    },
    "517ebaa35e2d42ba9837c35fcd6eee84": {
     "model_module": "@jupyter-widgets/controls",
     "model_module_version": "1.5.0",
     "model_name": "HTMLModel",
     "state": {
      "_dom_classes": [],
      "_model_module": "@jupyter-widgets/controls",
      "_model_module_version": "1.5.0",
      "_model_name": "HTMLModel",
      "_view_count": null,
      "_view_module": "@jupyter-widgets/controls",
      "_view_module_version": "1.5.0",
      "_view_name": "HTMLView",
      "description": "",
      "description_tooltip": null,
      "layout": "IPY_MODEL_0ee906c2608a4712bc63eda81b172809",
      "placeholder": "​",
      "style": "IPY_MODEL_09500e44e8424bda9c121da49ebeb1df",
      "value": "  0%"
     }
    },
    "56a6dc9eac5b41a494e636bb685be1ae": {
     "model_module": "@jupyter-widgets/base",
     "model_module_version": "1.2.0",
     "model_name": "LayoutModel",
     "state": {
      "_model_module": "@jupyter-widgets/base",
      "_model_module_version": "1.2.0",
      "_model_name": "LayoutModel",
      "_view_count": null,
      "_view_module": "@jupyter-widgets/base",
      "_view_module_version": "1.2.0",
      "_view_name": "LayoutView",
      "align_content": null,
      "align_items": null,
      "align_self": null,
      "border": null,
      "bottom": null,
      "display": null,
      "flex": null,
      "flex_flow": null,
      "grid_area": null,
      "grid_auto_columns": null,
      "grid_auto_flow": null,
      "grid_auto_rows": null,
      "grid_column": null,
      "grid_gap": null,
      "grid_row": null,
      "grid_template_areas": null,
      "grid_template_columns": null,
      "grid_template_rows": null,
      "height": null,
      "justify_content": null,
      "justify_items": null,
      "left": null,
      "margin": null,
      "max_height": null,
      "max_width": null,
      "min_height": null,
      "min_width": null,
      "object_fit": null,
      "object_position": null,
      "order": null,
      "overflow": null,
      "overflow_x": null,
      "overflow_y": null,
      "padding": null,
      "right": null,
      "top": null,
      "visibility": null,
      "width": null
     }
    },
    "632672424cc04daf8a5ee6b5d7b23809": {
     "model_module": "@jupyter-widgets/base",
     "model_module_version": "1.2.0",
     "model_name": "LayoutModel",
     "state": {
      "_model_module": "@jupyter-widgets/base",
      "_model_module_version": "1.2.0",
      "_model_name": "LayoutModel",
      "_view_count": null,
      "_view_module": "@jupyter-widgets/base",
      "_view_module_version": "1.2.0",
      "_view_name": "LayoutView",
      "align_content": null,
      "align_items": null,
      "align_self": null,
      "border": null,
      "bottom": null,
      "display": null,
      "flex": null,
      "flex_flow": null,
      "grid_area": null,
      "grid_auto_columns": null,
      "grid_auto_flow": null,
      "grid_auto_rows": null,
      "grid_column": null,
      "grid_gap": null,
      "grid_row": null,
      "grid_template_areas": null,
      "grid_template_columns": null,
      "grid_template_rows": null,
      "height": null,
      "justify_content": null,
      "justify_items": null,
      "left": null,
      "margin": null,
      "max_height": null,
      "max_width": null,
      "min_height": null,
      "min_width": null,
      "object_fit": null,
      "object_position": null,
      "order": null,
      "overflow": null,
      "overflow_x": null,
      "overflow_y": null,
      "padding": null,
      "right": null,
      "top": null,
      "visibility": null,
      "width": null
     }
    },
    "93c6897eb85e4240b05f446999e21353": {
     "model_module": "@jupyter-widgets/controls",
     "model_module_version": "1.5.0",
     "model_name": "HBoxModel",
     "state": {
      "_dom_classes": [],
      "_model_module": "@jupyter-widgets/controls",
      "_model_module_version": "1.5.0",
      "_model_name": "HBoxModel",
      "_view_count": null,
      "_view_module": "@jupyter-widgets/controls",
      "_view_module_version": "1.5.0",
      "_view_name": "HBoxView",
      "box_style": "",
      "children": [
       "IPY_MODEL_517ebaa35e2d42ba9837c35fcd6eee84",
       "IPY_MODEL_4fde29a12a8743d99293170cf49671ba",
       "IPY_MODEL_d15852a8683c4058b77c0c571a426f35"
      ],
      "layout": "IPY_MODEL_56a6dc9eac5b41a494e636bb685be1ae"
     }
    },
    "bfdd1b97a07c46919ff0fb6f1b580e47": {
     "model_module": "@jupyter-widgets/controls",
     "model_module_version": "1.5.0",
     "model_name": "DescriptionStyleModel",
     "state": {
      "_model_module": "@jupyter-widgets/controls",
      "_model_module_version": "1.5.0",
      "_model_name": "DescriptionStyleModel",
      "_view_count": null,
      "_view_module": "@jupyter-widgets/base",
      "_view_module_version": "1.2.0",
      "_view_name": "StyleView",
      "description_width": ""
     }
    },
    "d15852a8683c4058b77c0c571a426f35": {
     "model_module": "@jupyter-widgets/controls",
     "model_module_version": "1.5.0",
     "model_name": "HTMLModel",
     "state": {
      "_dom_classes": [],
      "_model_module": "@jupyter-widgets/controls",
      "_model_module_version": "1.5.0",
      "_model_name": "HTMLModel",
      "_view_count": null,
      "_view_module": "@jupyter-widgets/controls",
      "_view_module_version": "1.5.0",
      "_view_name": "HTMLView",
      "description": "",
      "description_tooltip": null,
      "layout": "IPY_MODEL_632672424cc04daf8a5ee6b5d7b23809",
      "placeholder": "​",
      "style": "IPY_MODEL_bfdd1b97a07c46919ff0fb6f1b580e47",
      "value": " 0/225 [00:00&lt;?, ?it/s]"
     }
    },
    "eefd6b2dbaec4c978ce6d5b81bb91d0c": {
     "model_module": "@jupyter-widgets/base",
     "model_module_version": "1.2.0",
     "model_name": "LayoutModel",
     "state": {
      "_model_module": "@jupyter-widgets/base",
      "_model_module_version": "1.2.0",
      "_model_name": "LayoutModel",
      "_view_count": null,
      "_view_module": "@jupyter-widgets/base",
      "_view_module_version": "1.2.0",
      "_view_name": "LayoutView",
      "align_content": null,
      "align_items": null,
      "align_self": null,
      "border": null,
      "bottom": null,
      "display": null,
      "flex": null,
      "flex_flow": null,
      "grid_area": null,
      "grid_auto_columns": null,
      "grid_auto_flow": null,
      "grid_auto_rows": null,
      "grid_column": null,
      "grid_gap": null,
      "grid_row": null,
      "grid_template_areas": null,
      "grid_template_columns": null,
      "grid_template_rows": null,
      "height": null,
      "justify_content": null,
      "justify_items": null,
      "left": null,
      "margin": null,
      "max_height": null,
      "max_width": null,
      "min_height": null,
      "min_width": null,
      "object_fit": null,
      "object_position": null,
      "order": null,
      "overflow": null,
      "overflow_x": null,
      "overflow_y": null,
      "padding": null,
      "right": null,
      "top": null,
      "visibility": null,
      "width": null
     }
    }
   }
  }
 },
 "nbformat": 4,
 "nbformat_minor": 4
}
